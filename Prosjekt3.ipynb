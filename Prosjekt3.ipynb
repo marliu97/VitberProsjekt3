{
 "cells": [
  {
   "cell_type": "markdown",
   "metadata": {},
   "source": [
    "# TMA4320 - Project 3: <br> Simulating the action potential with random walk of ions\n",
    "**Group number:** 27 <br>\n",
    "**Group members:** Marte K. Høiskar, Maren Lium and Johanna U. Marstrander"
   ]
  },
  {
   "cell_type": "markdown",
   "metadata": {},
   "source": [
    "## 1 $\\,$ Theory\n",
    "Skal vi skrive noe her? JAAAA\n",
    "\n",
    "In one dimention the diffusion equation takes the form \n",
    "\n",
    "\\begin{equation}\n",
    "    \\frac{\\partial \\phi \\left( x, t \\right)}{\\partial x} = \\frac{\\partial}{\\partial x} \\left(D \\left(x \\right) \\frac{\\partial \\phi (x, t)}{\\partial x} \\right)\n",
    "\\end{equation}\n",
    "\n",
    "where $\\phi(x,t)$ is the distribution of a substance and $D(x)$ is the (position dependent) diffusion coefficient.\n",
    "\n",
    "## 2 $\\,$ Excercises\n",
    "\n",
    "### Excercise 2.1\n",
    "*Task:* <br>\n",
    "Show that the function\n",
    "\n",
    "\\begin{equation}\n",
    "    \\tilde{\\phi} \\left( x, t \\right) = \\frac{1}{\\sqrt{4 \\pi D t}} e^{ - \\frac{\\left( x - \\mu \\right)^2}{4Dt} },\n",
    "\\end{equation}\n",
    "\n",
    "where D is a constant, is a solution of the diffusion equation. \n",
    "\n",
    "*Answer:*<br>\n",
    "\n",
    "Since the D is a constant, the diffusion equation will be given by\n",
    "\n",
    "\\begin{equation}\n",
    "    \\frac{\\partial \\phi \\left( x, t \\right)}{\\partial t} = D \\frac{\\partial^2 \\phi (x, t)}{\\partial x^2}.\n",
    "\\end{equation}\n",
    "\n",
    "Calculating the partial derivatives of $\\tilde{\\phi} \\left( x, t \\right)$:\n",
    "\n",
    "\\begin{align}\n",
    "    \\frac{\\partial \\phi \\left( x, t \\right)}{\\partial t} &= e^{-\\frac{(x-\\mu)^2}{4Dt}}\\frac{\\partial}{\\partial t} \\frac{1}{\\sqrt{4 \\pi Dt}} + \\frac{1}{\\sqrt{4 \\pi Dt}}\\frac{\\partial}{\\partial t} e^{-\\frac{(x-\\mu)^2}{4Dt}} \\\\\n",
    "     &= \\frac{- 4\\pi D}{2 \\left( 4\\pi Dt \\right)^{\\frac{3}{2}}}e^{-\\frac{(x-\\mu)^2}{4Dt}}+\\frac{1}{\\sqrt{4 \\pi Dt}} \\left( e^{-\\frac{(x-\\mu)^2}{4Dt}} \\frac{(x-\\mu)^2}{4Dt^2}  \\right ) \\\\\n",
    "     &= \\frac{e^{\\frac{(x-\\mu)^2}{4Dt}}}{\\sqrt{4\\pi Dt}} \\left ( \\frac{(x-\\mu)^2}{4Dt^2}-\\frac{1}{2t} \\right ) \\\\ \\\\\n",
    "      \\frac{\\partial \\phi \\left( x,t \\right)}{\\partial x} &= \\frac{1}{\\sqrt{4 \\pi Dt}}\\frac{\\partial}{\\partial x} e^{-\\frac{(x-\\mu)^2}{4Dt}} \\\\\n",
    "      &= \\frac{1}{\\sqrt{4 \\pi Dt}}e^{-\\frac{(x-\\mu)^2}{4Dt}} \\left( -\\frac{2(x-\\mu)}{4Dt} \\right) \\\\\n",
    "       &= -\\frac{e^{-\\frac{(x-\\mu)^2}{4Dt}}}{2Dt\\sqrt{4\\pi Dt}} \\left( x-\\mu \\right) \\\\ \\\\\n",
    "      \\frac{\\partial^2 \\phi \\left( x,t \\right)}{\\partial x^2} &= -\\frac{1}{2Dt\\sqrt{4\\pi Dt}} \\left ( (x-\\mu) \\frac{\\partial}{\\partial x} \\left( e^{-\\frac{(x-\\mu)^2}{4Dt}} \\right) + e^{-\\frac{(x-\\mu)^2}{4Dt}}\\frac{\\partial}{\\partial x}(x-\\mu) \\right) \\\\\n",
    "      &= -\\frac{1}{2Dt\\sqrt{4\\pi Dt}} \\left( -e^{-\\frac{(x-\\mu)^2}{4Dt}}\\frac{2(x-\\mu)^2}{4Dt}+e^{-\\frac{(x-\\mu)^2}{4Dt}} \\right) \\\\\n",
    "      &= \\frac{e^{\\frac{(x-\\mu)^2}{4Dt}}}{D\\sqrt{4\\pi Dt}} \\left ( \\frac{(x-\\mu)^2}{4Dt^2}-\\frac{1}{2t} \\right )\n",
    "\\end{align}\n",
    "\n",
    "Thus, \n",
    "\n",
    "\\begin{equation}\n",
    "    \\frac{\\partial \\phi \\left( x, t \\right)}{\\partial t} = \\frac{e^{\\frac{(x-\\mu)^2}{4Dt}}}{\\sqrt{4\\pi Dt}} \\left ( \\frac{(x-\\mu)^2}{4Dt^2}-\\frac{1}{2t} \\right ) = D \\frac{\\partial^2 \\phi (x, t)}{\\partial x^2}\n",
    "\\end{equation}\n",
    "\n",
    "Hence, $\\tilde{\\phi} \\left( x, t \\right)$ is a solution to the diffusion equation. \n",
    "\n",
    "### Excercise 2.2\n",
    "#### 2.2.1\n",
    "*Task:*<br>\n",
    "(Initial value problem.) Given the particle distribution\n",
    "\n",
    "\\begin{equation}\n",
    "    \\phi \\left( x, 0 \\right)\n",
    "    =\n",
    "    \\delta \\left( x - x_0 \\right),\n",
    "\\end{equation}\n",
    "\n",
    "where $\\delta(x)$ is the dirac delta function, find the particle distribution a time $t$.\n",
    "\n",
    "*Answer:*<br>\n",
    "\n",
    "#### 2.2.2\n",
    "*Task:*<br>\n",
    "Use the results of Exercise 2.2.1 to give a physical interpretation of the diffusion coefficient D.\n",
    "\n",
    "*Answer:*<br>\n",
    "\n",
    "#### 2.2.3\n",
    "*Task:*<br>\n",
    "Use the results from Exercise 2.2.1 to find the time evolution $\\phi(x, t)$ given another initial condition $\\phi(x, 0) = g(x)$, where $g(x)$ is an arbitrary function.\n",
    "\n",
    "*Answer:*<br>"
   ]
  },
  {
   "cell_type": "markdown",
   "metadata": {},
   "source": [
    "## 3 $\\,$ Programming  \n",
    "*Random walk in 1D*\n",
    "\n",
    "<font color = 'red'> Denne koden bør så absolutt ryddes opp i etter hvert, men hey den funker så den kan ikke være sååå dum :)) </font>"
   ]
  },
  {
   "cell_type": "code",
   "execution_count": 1,
   "metadata": {},
   "outputs": [],
   "source": [
    "from random import randint\n",
    "import numpy as np\n",
    "from matplotlib import pyplot as plt\n",
    "from scipy.stats import norm\n",
    "from scipy import constants as const"
   ]
  },
  {
   "cell_type": "code",
   "execution_count": 2,
   "metadata": {},
   "outputs": [],
   "source": [
    "particles = 1000         # number of particles at x = 0\n",
    "time_steps = 100         # number of time steps \n",
    "d = 1                    # probability of a particle moving (in an arbitrary direction)\n",
    "h = 1                    # step length\n",
    "\n",
    "\n",
    "def random_walk(p_right, pos, h = 1):\n",
    "    '''Input: probability d, steplength h, and a temporary position vector pos_vec\n",
    "    (temporary meaning that the last element is at time t so that the return value is the position at time t + dt)\n",
    "    Output: the next location of the particle'''\n",
    "    \n",
    "    r = randint(0, 101) / 100           # Generates a random number between 0.01 and 1\n",
    "    if r <= p_right:                    # Right step\n",
    "        return pos + h\n",
    "    else:                               # Left step\n",
    "        return pos - h\n",
    "\n",
    "    \n",
    "def random_walk_in_1D(p_right = np.ones(201)*d/2):\n",
    "    '''Answer to part 3'''\n",
    "    \n",
    "    dist = np.zeros(particles)          # Distribution array\n",
    "    \n",
    "    for p in range(particles):          # Loops through every paricle\n",
    "        i = 0\n",
    "        for s in range(time_steps):     # Loops through time_steps per particle\n",
    "            i = random_walk(p_right[i+100], i)\n",
    "        dist[p] += i                    # Places the location of a particle in the distrubution array\n",
    "    \n",
    "    return dist\n",
    "\n",
    "\n",
    "dist_1D = random_walk_in_1D()\n",
    "\n",
    "\n",
    "def task_3_plot():\n",
    "    \n",
    "    #Plotting our data\n",
    "    x_axis = np.linspace(dist_1D.min(), dist_1D.max())\n",
    "   \n",
    "    title = f\"Particle distribution of {particles} particles after {time_steps} time steps.\"\n",
    "\n",
    "    fig, ax1 = plt.subplots()\n",
    "    plt.title(title)\n",
    "    #ax1.plot(x_axis, dist_1D, label=\"Particle distribution\")\n",
    "    ax1.hist(dist_1D, 100)\n",
    "    ax1.set_xlabel(\"x\")\n",
    "    ax1.set_ylabel(\"Number of particles\")\n",
    "\n",
    "    #Plotting a fitted normal distribution\n",
    "    muf, stdf = norm.fit(dist_1D)                            # the (ish) expected value and standard deviation of our particle  \n",
    "    norm_dist = norm.pdf(x_axis, loc = muf, scale = stdf)    # the fitted normal distribution\n",
    "    \n",
    "    ax2 = ax1.twinx()\n",
    "    ax2.set_ylabel(\"Probability\")\n",
    "    ax2.plot(x_axis, norm_dist, \"r-\" ,label=\"Fitted normal distr.\")\n",
    "    ax2.set_ylim(0, np.max(norm_dist)*1.05)\n",
    "    ax1.set_ylim(0, 1 / (np.sqrt(2*np.pi)*stdf) *2* particles*1.05)\n",
    "    #ax2.plot(x_axis, norm.pdf(x_axis, loc = 0, scale = np.sqrt(2*100)), \"b-\" ,label=\"Theory says\")\n",
    "\n",
    "    plt.legend()    \n",
    "    \n",
    "    print(f\"Theory says:\\tMu = {0}\\t\\tStd = {np.sqrt(2*100):.6}\")\n",
    "    print(f\"Men vi faar:\\tMu = {muf:.6}\\tStd = {stdf:.6}\")\n",
    "    plt.show()\n",
    "    \n",
    "    \n",
    "#task_3_plot()"
   ]
  },
  {
   "cell_type": "markdown",
   "metadata": {},
   "source": [
    "*Explanation of the results based on the theory from section 1 and 2*:\n"
   ]
  },
  {
   "cell_type": "markdown",
   "metadata": {},
   "source": [
    "## 4 $\\,$ Theory\n",
    "Skal vi skrive noe som helst her? "
   ]
  },
  {
   "cell_type": "markdown",
   "metadata": {},
   "source": [
    "## 5 $\\,$ Programming \n",
    "*Random walk in a potential*"
   ]
  },
  {
   "cell_type": "code",
   "execution_count": 3,
   "metadata": {},
   "outputs": [],
   "source": [
    "temperature = 298.15                      # Set to room temperature (25 Celcius)\n",
    "beta = 1 / (const.k * temperature)        # Where const.k is the Boltzmann constant and 298.15 is the temperature in kelvin\n",
    "beta_k = np.array([0.1, 0.5, 2, 5, 10])   # Selected values of the constant beta*k (here, k is NOT the Boltzmann constant)\n",
    "\n",
    "\n",
    "def p_right(V, x, k):\n",
    "    '''Function that calculates the probability of a particle moving right in a potential'''\n",
    "    return 1 / (1 + np.exp(-beta*(V(x-h, k) - V(x+h, k))))\n",
    "\n",
    "\n",
    "def plot_distribution(V, title):\n",
    "    '''funksjon som gjør alt for deg i oppgave 5 ;)\n",
    "    Finner fordeling, og plotter fordelinga og potensialet for de valgte verdiene for beta*k'''\n",
    "    x = np.linspace(-100, 100, 201)   # x-values that is used as a basis for the potential vector\n",
    "    \n",
    "    plt.figure(title) \n",
    "    \n",
    "    for k in beta_k/beta:\n",
    "        probability_vector = p_right(V, x, k)                 # an array consisting of the probabilities of a particle moving right based on the position and potential field\n",
    "        distribution = random_walk_in_1D(probability_vector)  # the particle distribution due to the field \n",
    "    \n",
    "        #Plotting the particle dirtibution\n",
    "        fig, ax1 = plt.subplots()\n",
    "        ax1.hist(distribution, bins=100, label=\"Particle distribution\")\n",
    "        ax1.set_xlabel(\"x\")\n",
    "        ax1.set_ylabel(\"Number of particles\")    \n",
    "    \n",
    "        # Plotting the potential\n",
    "        mi, ma = plt.xlim()\n",
    "        ax2 = ax1.twinx()\n",
    "        ax2.plot(x, V(x, k), \"k-\", label=f\"V(x) = {k:.2}x\\n\" + r\"$\\beta k$\"+ f\" = {k*beta:.3}\")\n",
    "        ax2.set_ylabel(\"J\")\n",
    "        ax2.set_xlim(mi, ma)\n",
    "    \n",
    "        plt.legend()\n",
    "        plt.show()"
   ]
  },
  {
   "cell_type": "markdown",
   "metadata": {},
   "source": [
    "### Excercise 5.1\n",
    "\n",
    "\\begin{equation}\n",
    "    V \\left( x \\right) = kx.\n",
    "\\end{equation}"
   ]
  },
  {
   "cell_type": "code",
   "execution_count": 4,
   "metadata": {},
   "outputs": [],
   "source": [
    "def V1(x, k):     #please kom på bedre navn, jeg orker ikke\n",
    "    return k*x\n",
    "\n",
    "\n",
    "title_5_1 = f\"Particle distribution of {particles} particles after {time_steps} time steps with potential V(x) = kx.\\n\"\n",
    "\n",
    "#plot_distribution(V1, title_5_1)"
   ]
  },
  {
   "cell_type": "markdown",
   "metadata": {},
   "source": [
    "### Excercise 5.2\n",
    "\n",
    "\\begin{align}\n",
    "    &V \\left( x \\right) = k, \\,\\,\\, \\text{for} -3h < x < 3h. \\\\\n",
    "    &V \\left( x \\right) = 0  \\quad \\text{otherwise.}\n",
    "\\end{align}"
   ]
  },
  {
   "cell_type": "code",
   "execution_count": 5,
   "metadata": {},
   "outputs": [],
   "source": [
    "def V2(x, k):                 #Nok et dårlig navn, trademark Maren Lium ;))\n",
    "    pot = np.zeros(len(x))\n",
    "    for i in range(len(x)):\n",
    "        if x[i] > -3*h and x[i] < 3*h:\n",
    "            pot[i] = k\n",
    "    return pot\n",
    "\n",
    "    \n",
    "#Denne tittelen er jævlig lang og dårlig mtp potensialforklaring heheheh :))\n",
    "title_5_2 = f\"Particle distribution of {particles} particles after {time_steps} time steps with constant potential in the middle???.\\n\"\n",
    "\n",
    "#plot_distribution(V2, title_5_2)"
   ]
  },
  {
   "cell_type": "markdown",
   "metadata": {},
   "source": [
    "### Excercise 5.3\n",
    "\n",
    "\\begin{align}\n",
    "    &V \\left( x \\right) = -k, \\quad \\text{for } x < -3h. \\\\\n",
    "    &V \\left( x \\right) = k \\left( -1 + 2 \\frac{x + 3h}{6h} \\right), \\quad \\text{for } -3h < x < 3h. \\\\\n",
    "    &V \\left( x \\right) = k, \\quad\\,\\,\\, \\text{for } x > 3h.\n",
    "\\end{align}"
   ]
  },
  {
   "cell_type": "code",
   "execution_count": 6,
   "metadata": {},
   "outputs": [],
   "source": [
    "def V3(x, k):   # Nei jeg prøvde ikke engang\n",
    "    pot = np.ones(len(x))\n",
    "    for i in range(len(x)):\n",
    "        if x[i] < -3*h:\n",
    "            pot[i] *= -k\n",
    "        elif x[i] > 3*h:\n",
    "            pot[i] *= k\n",
    "        else:\n",
    "            pot[i] *= k * (-1 + 2*(x[i] + 3*h) / 6*h)\n",
    "    return pot\n",
    "\n",
    "\n",
    "title_5_3 = f\"Particle distribution of {particles} particles after {time_steps} time steps with funky potential (???).\\n\"\n",
    "\n",
    "#plot_distribution(V3, title_5_3)"
   ]
  },
  {
   "cell_type": "markdown",
   "metadata": {},
   "source": []
  },
  {
   "cell_type": "code",
   "execution_count": null,
   "metadata": {},
   "outputs": [],
   "source": []
  },
  {
   "cell_type": "markdown",
   "metadata": {},
   "source": [
    "### Excercise 7.1"
   ]
  },
  {
   "cell_type": "code",
   "execution_count": 7,
   "metadata": {},
   "outputs": [
    {
     "name": "stdout",
     "output_type": "stream",
     "text": [
      "2.3364429142421445e+20\n",
      "hei\n"
     ]
    }
   ],
   "source": [
    "#initial conditions\n",
    "\n",
    "Na_in_init = 60\n",
    "Na_out_init = 1450\n",
    "K_in_init= 1400\n",
    "K_out_init = 50\n",
    "T0 = 273 + 37\n",
    "beta = 1 / (const.k * T0)\n",
    "print(beta)\n",
    "beta_V0 = [0,1,3]\n",
    "L = 52\n",
    "C_c = 0.07 * const.e\n",
    "time_steps = 700\n",
    "print(\"hei\")\n",
    "\n",
    "def calculate_normalized_potential(x, K_in, Na_in, membrane_pot):\n",
    "    pot = np.zeros(len(x))\n",
    "    for i in range(len(x)//2):\n",
    "        pot[i] = (Na_in + K_in - Na_out_init - K_out_init) * 0.1e-3 * const.e**2*beta / C_c \n",
    "    pot[L//2] = (Na_in + K_in - Na_out_init - K_out_init) * 0.1e-3 *const.e**2 * beta / (C_c * 2)\n",
    "    for i in range(L//2-1, L//2+2):\n",
    "        pot[i] += membrane_pot\n",
    "    return pot\n",
    "\n",
    "\n",
    "def step(V_minus, V_plus):\n",
    "    r = randint(0, 101) / 100 \n",
    "    p = 1 / (1 + np.exp(-(V_minus - V_plus)))\n",
    "    if r <= p:\n",
    "        return 1\n",
    "    else:\n",
    "        return -1\n",
    "\n",
    "def plot_potential(dist, x, pot):\n",
    "    fig, ax1 = plt.subplots()\n",
    "    ax1.hist(dist, bins=100, label=\"Particle distribution\")\n",
    "    ax1.set_xlabel(\"x\")\n",
    "    ax1.set_ylabel(\"Number of particles\")    \n",
    "    \n",
    "    mi, ma = plt.xlim()\n",
    "    ax2 = ax1.twinx()\n",
    "    ax2.plot(x, pot, \"k-\", label=r\"$\\beta k$\")\n",
    "    ax2.set_ylabel(\"J\")\n",
    "    ax2.set_xlim(mi, ma)\n",
    "\n",
    "\n",
    "    \n",
    "def plot_distribution2(V0K, V0Na, title, V0_op = 0, task8 = False, potassium_pump = False):\n",
    "    x = np.linspace(-L/2, L/2, L+1)   # x-values that is used as a basis for the potential vector\n",
    "    \n",
    "    dist_K = np.append(np.ones(K_out_init)*L//4, np.ones(K_in_init)*-L//4)\n",
    "    dist_Na = np.append(np.ones(Na_out_init)*L//4, np.ones(Na_in_init)*-L//4)\n",
    "    \n",
    "    # Plotting the potential\n",
    "    #dist = np.append(dist_K, dist_Na)\n",
    "    #plot_potential(dist, x, potK)\n",
    "    \n",
    "    Na_in = Na_in_init\n",
    "    K_in = K_in_init\n",
    "    if task8:\n",
    "            V0K_cl = V0K\n",
    "            V0Na_cl = V0Na\n",
    "\n",
    "    for t in range(time_steps):\n",
    "        if task8:\n",
    "            pot = (Na_in + K_in - Na_out_init - K_out_init)*0.1*const.e/C_c\n",
    "            if (pot <= -57):\n",
    "                V0Na = V0_op\n",
    "                V0K = V0K_cl\n",
    "            if (pot >= 30):\n",
    "                V0Na = V0Na_cl\n",
    "                V0K = V0_op\n",
    "        if (potassium_pump and t%10 == 0 and Na_in>=3 and K_out_init+K_in_init-K_in>=2):\n",
    "            posNa = np.array([], dtype = int)\n",
    "            numNa=0\n",
    "            index = -2\n",
    "            while (numNa<3):\n",
    "                a = np.argwhere(dist_Na == index)\n",
    "                numNa += len(a)\n",
    "                posNa = np.append(posNa, a)\n",
    "                index -= 1\n",
    "            dist_Na[posNa[:3]]=2\n",
    "            \n",
    "            posK = np.array([])\n",
    "            numK =0\n",
    "            index = 2\n",
    "            while (numK<2):\n",
    "                a = np.argwhere(dist_K == index)\n",
    "                numK += len(a)\n",
    "                posK = np.append(posK, a)\n",
    "                index += 1\n",
    "            dist_K[posNa[:2]=-2\n",
    "        potK = calculate_normalized_potential(x, K_in, Na_in, V0K)\n",
    "        potNa = calculate_normalized_potential(x, K_in, Na_in, V0Na)\n",
    "        if t==0:\n",
    "            pot_vec = np.array([potK[2]])\n",
    "        else:\n",
    "            pot_vec = np.append(pot_vec, [potK[2]])\n",
    "        for i in range(len(dist_K)):\n",
    "            if dist_K[i]>=L/2:\n",
    "                dist_K[i]-=1\n",
    "            elif dist_K[i]<=-L/2:\n",
    "                dist_K[i]+=1\n",
    "            else:\n",
    "                dist_K[i]+=step(potK[int(L//2+dist_K[i])-1], potK[int(L//2+dist_K[i])+1])\n",
    "        for j in range(len(dist_Na)):\n",
    "            if dist_Na[j]>=L/2:\n",
    "                dist_Na[j]-=1\n",
    "            elif dist_Na[j]<=-L/2:\n",
    "                dist_Na[j]+=1\n",
    "            else:\n",
    "                dist_Na[j]+=step(potNa[int(L//2+dist_Na[j])-1], potNa[int(L//2+dist_Na[j])+1])\n",
    "        K_in = len([1 for n in dist_K if n<-1])\n",
    "        Na_in = len([1 for n in dist_Na if n<-1])\n",
    "        \n",
    "    plt.figure(title)\n",
    "                       \n",
    "    dist = np.append(dist_K, dist_Na)\n",
    "    plot_potential(dist, x, potK)\n",
    "    \n",
    "    #Plotting how the potenatialdifference changes with time\n",
    "    plt.figure(\"fig2\")\n",
    "    plt.plot([n for n in range(len(pot_vec))], pot_vec)\n",
    "\n",
    "    #plt.legend()\n",
    "    #plt.show()\n",
    "\n",
    "\n",
    "\n",
    "\n"
   ]
  },
  {
   "cell_type": "code",
   "execution_count": 8,
   "metadata": {},
   "outputs": [
    {
     "name": "stdout",
     "output_type": "stream",
     "text": [
      "[-10   2 -14  -4 -20  -8  -6   6 -18   0 -12  10 -16  -2   8   4]\n",
      "[99  2 99 99 99 99 99  6 99  0 99 10 99 99  8  4]\n"
     ]
    }
   ],
   "source": [
    "a = np.arange(-20, 11, 2)\n",
    "np.random.shuffle(a)\n",
    "b = np.argwhere(a < -1)\n",
    "print(a)\n",
    "a[b] = 99\n",
    "print(a)"
   ]
  },
  {
   "cell_type": "markdown",
   "metadata": {},
   "source": [
    "### Exercise 7.1"
   ]
  },
  {
   "cell_type": "code",
   "execution_count": 9,
   "metadata": {},
   "outputs": [],
   "source": [
    "#Oppg 7.1\n",
    "#for n in beta_V0:\n",
    "    #plot_distribution2(n,n, \"hei\")\n"
   ]
  },
  {
   "cell_type": "markdown",
   "metadata": {},
   "source": [
    "### Exercise 7.2"
   ]
  },
  {
   "cell_type": "code",
   "execution_count": 10,
   "metadata": {},
   "outputs": [
    {
     "data": {
      "text/plain": [
       "<Figure size 432x288 with 0 Axes>"
      ]
     },
     "metadata": {},
     "output_type": "display_data"
    },
    {
     "data": {
      "image/png": "[encoded data removed]",
      "text/plain": [
       "<Figure size 432x288 with 2 Axes>"
      ]
     },
     "metadata": {
      "needs_background": "light"
     },
     "output_type": "display_data"
    },
    {
     "data": {
      "image/png": "[encoded data removed]",
      "text/plain": [
       "<Figure size 432x288 with 1 Axes>"
      ]
     },
     "metadata": {
      "needs_background": "light"
     },
     "output_type": "display_data"
    },
    {
     "data": {
      "image/png": "[encoded data removed]",
      "text/plain": [
       "<Figure size 432x288 with 2 Axes>"
      ]
     },
     "metadata": {
      "needs_background": "light"
     },
     "output_type": "display_data"
    }
   ],
   "source": [
    "#Oppg 7.2\n",
    "time_steps = 10\n",
    "beta_V0 = [(10,1),(1,10)]\n",
    "for n,m in beta_V0:\n",
    "    plot_distribution2(n,m, \"hei\")"
   ]
  },
  {
   "cell_type": "markdown",
   "metadata": {},
   "source": [
    "### Exercise 8.1"
   ]
  },
  {
   "cell_type": "code",
   "execution_count": 11,
   "metadata": {},
   "outputs": [
    {
     "data": {
      "text/plain": [
       "<Figure size 432x288 with 0 Axes>"
      ]
     },
     "metadata": {},
     "output_type": "display_data"
    },
    {
     "data": {
      "image/png": "[encoded data removed]",
      "text/plain": [
       "<Figure size 432x288 with 2 Axes>"
      ]
     },
     "metadata": {
      "needs_background": "light"
     },
     "output_type": "display_data"
    },
    {
     "data": {
      "image/png": "[encoded data removed]",
      "text/plain": [
       "<Figure size 432x288 with 1 Axes>"
      ]
     },
     "metadata": {
      "needs_background": "light"
     },
     "output_type": "display_data"
    }
   ],
   "source": [
    "V0K_closed = 50\n",
    "V0Na_closed = 50\n",
    "V0_open = 1\n",
    "time_steps = 1000\n",
    "\n",
    "plot_distribution2(V0K_closed, V0Na_closed, \"hei\", V0_open, True)"
   ]
  },
  {
   "cell_type": "markdown",
   "metadata": {},
   "source": [
    "### Exercise 8.2"
   ]
  },
  {
   "cell_type": "code",
   "execution_count": 12,
   "metadata": {},
   "outputs": [
    {
     "ename": "IndexError",
     "evalue": "index 1450 is out of bounds for axis 1 with size 1450",
     "output_type": "error",
     "traceback": [
      "\u001b[0;31m---------------------------------------------------------------------------\u001b[0m",
      "\u001b[0;31mIndexError\u001b[0m                                Traceback (most recent call last)",
      "\u001b[0;32m<ipython-input-12-08915d082e95>\u001b[0m in \u001b[0;36m<module>\u001b[0;34m\u001b[0m\n\u001b[1;32m      1\u001b[0m \u001b[0mtime_steps\u001b[0m \u001b[0;34m=\u001b[0m \u001b[0;36m500\u001b[0m\u001b[0;34m\u001b[0m\u001b[0;34m\u001b[0m\u001b[0m\n\u001b[0;32m----> 2\u001b[0;31m \u001b[0mplot_distribution2\u001b[0m\u001b[0;34m(\u001b[0m\u001b[0mV0K_closed\u001b[0m\u001b[0;34m,\u001b[0m \u001b[0mV0Na_closed\u001b[0m\u001b[0;34m,\u001b[0m \u001b[0;34m\"hei\"\u001b[0m\u001b[0;34m,\u001b[0m \u001b[0mV0_open\u001b[0m\u001b[0;34m,\u001b[0m \u001b[0;32mTrue\u001b[0m\u001b[0;34m,\u001b[0m \u001b[0;32mTrue\u001b[0m\u001b[0;34m)\u001b[0m\u001b[0;34m\u001b[0m\u001b[0;34m\u001b[0m\u001b[0m\n\u001b[0m",
      "\u001b[0;32m<ipython-input-7-ea3de92f698b>\u001b[0m in \u001b[0;36mplot_distribution2\u001b[0;34m(V0K, V0Na, title, V0_op, task8, potassium_pump)\u001b[0m\n\u001b[1;32m     90\u001b[0m                 \u001b[0mposK\u001b[0m \u001b[0;34m=\u001b[0m \u001b[0mnp\u001b[0m\u001b[0;34m.\u001b[0m\u001b[0mappend\u001b[0m\u001b[0;34m(\u001b[0m\u001b[0mposK\u001b[0m\u001b[0;34m,\u001b[0m \u001b[0ma\u001b[0m\u001b[0;34m)\u001b[0m\u001b[0;34m\u001b[0m\u001b[0;34m\u001b[0m\u001b[0m\n\u001b[1;32m     91\u001b[0m                 \u001b[0mindex\u001b[0m \u001b[0;34m+=\u001b[0m \u001b[0;36m1\u001b[0m\u001b[0;34m\u001b[0m\u001b[0;34m\u001b[0m\u001b[0m\n\u001b[0;32m---> 92\u001b[0;31m             \u001b[0mdist_K\u001b[0m\u001b[0;34m[\u001b[0m\u001b[0mposNa\u001b[0m\u001b[0;34m[\u001b[0m\u001b[0;34m:\u001b[0m\u001b[0;36m2\u001b[0m\u001b[0;34m]\u001b[0m\u001b[0;34m]\u001b[0m\u001b[0;34m=\u001b[0m\u001b[0;34m-\u001b[0m\u001b[0;36m2\u001b[0m\u001b[0;34m\u001b[0m\u001b[0;34m\u001b[0m\u001b[0m\n\u001b[0m\u001b[1;32m     93\u001b[0m         \u001b[0mpotK\u001b[0m \u001b[0;34m=\u001b[0m \u001b[0mcalculate_normalized_potential\u001b[0m\u001b[0;34m(\u001b[0m\u001b[0mx\u001b[0m\u001b[0;34m,\u001b[0m \u001b[0mK_in\u001b[0m\u001b[0;34m,\u001b[0m \u001b[0mNa_in\u001b[0m\u001b[0;34m,\u001b[0m \u001b[0mV0K\u001b[0m\u001b[0;34m)\u001b[0m\u001b[0;34m\u001b[0m\u001b[0;34m\u001b[0m\u001b[0m\n\u001b[1;32m     94\u001b[0m         \u001b[0mpotNa\u001b[0m \u001b[0;34m=\u001b[0m \u001b[0mcalculate_normalized_potential\u001b[0m\u001b[0;34m(\u001b[0m\u001b[0mx\u001b[0m\u001b[0;34m,\u001b[0m \u001b[0mK_in\u001b[0m\u001b[0;34m,\u001b[0m \u001b[0mNa_in\u001b[0m\u001b[0;34m,\u001b[0m \u001b[0mV0Na\u001b[0m\u001b[0;34m)\u001b[0m\u001b[0;34m\u001b[0m\u001b[0;34m\u001b[0m\u001b[0m\n",
      "\u001b[0;31mIndexError\u001b[0m: index 1450 is out of bounds for axis 1 with size 1450"
     ]
    }
   ],
   "source": [
    "time_steps = 500\n",
    "plot_distribution2(V0K_closed, V0Na_closed, \"hei\", V0_open, True, True)"
   ]
  },
  {
   "cell_type": "code",
   "execution_count": null,
   "metadata": {},
   "outputs": [],
   "source": []
  }
 ],
 "metadata": {
  "kernelspec": {
   "display_name": "Python 3",
   "language": "python",
   "name": "python3"
  },
  "language_info": {
   "codemirror_mode": {
    "name": "ipython",
    "version": 3
   },
   "file_extension": ".py",
   "mimetype": "text/x-python",
   "name": "python",
   "nbconvert_exporter": "python",
   "pygments_lexer": "ipython3",
   "version": "3.7.1"
  }
 },
 "nbformat": 4,
 "nbformat_minor": 2
}
