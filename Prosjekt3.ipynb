{
 "cells": [
  {
   "cell_type": "markdown",
   "metadata": {},
   "source": [
    "# TMA4320 - Project 3: <br> Simulating the action potential with random walk of ions\n",
    "**Group number:** 27 <br>\n",
    "**Group members:** Marte K. Høiskar, Maren Lium and Johanna U. Marstrander"
   ]
  },
  {
   "cell_type": "markdown",
   "metadata": {},
   "source": [
    "## 1 $\\,$ Theory\n",
    "Skal vi skrive noe her? JAAAA\n",
    "\n",
    "In one dimention the diffusion equation takes the form \n",
    "\n",
    "\\begin{equation}\n",
    "    \\frac{\\partial \\phi \\left( x, t \\right)}{\\partial x} = \\frac{\\partial}{\\partial x} \\left( D \\left( x \\right) \\frac{\\partial \\phi (x, t)}{\\partial x} \\right),\n",
    "    \\label{Diffusion equation}\n",
    "\\end{equation}\n",
    "\n",
    "where $\\phi(x,t)$ is the distribution of a substance and $D(x)$ is the (position dependent) diffusion coefficient.\n",
    "\n",
    "## 2 $\\,$ Excercises\n",
    "\n",
    "### Excercise 2.1\n",
    "*Task:* <br>\n",
    "Show that the function\n",
    "\n",
    "\\begin{equation}\n",
    "    \\tilde{\\phi} \\left( x, t \\right) = \\frac{1}{\\sqrt{4 \\pi D t}} e^{ - \\frac{\\left( x - \\mu \\right)^2}{4Dt} },\n",
    "\\end{equation}\n",
    "\n",
    "where D is a constant, is a solution of the diffusion equation.\n",
    "\n",
    "*Answer:*<br>\n",
    "\n",
    "### Excercise 2.2\n",
    "#### 2.2.1\n",
    "*Task:*<br>\n",
    "(Initial value problem.) Given the particle distribution\n",
    "\n",
    "\\begin{equation}\n",
    "    \\phi \\left( x, 0 \\right)\n",
    "    =\n",
    "    \\delta \\left( x - x_0 \\right),\n",
    "\\end{equation}\n",
    "\n",
    "where $\\delta(x)$ is the dirac delta function, find the particle distribution a time $t$.\n",
    "\n",
    "*Answer:*<br>\n",
    "\n",
    "#### 2.2.2\n",
    "*Task:*<br>\n",
    "Use the results of Exercise 2.2.1 to give a physical interpretation of the diffusion coefficient D.\n",
    "\n",
    "*Answer:*<br>\n",
    "\n",
    "#### 2.2.3\n",
    "*Task:*<br>\n",
    "Use the results from Exercise 2.2.1 to find the time evolution $\\phi(x, t)$ given another initial condition $\\phi(x, 0) = g(x)$, where $g(x)$ is an arbitrary function.\n",
    "\n",
    "*Answer:*<br>"
   ]
  },
  {
   "cell_type": "markdown",
   "metadata": {},
   "source": [
    "## 3 $\\,$ Programming  \n",
    "*Random walk in 1D*\n",
    "\n",
    "<font color = 'red'> Denne koden bør så absolutt ryddes opp i etter hvert, men hey den funker så den kan ikke være sååå dum :)) </font>"
   ]
  },
  {
   "cell_type": "code",
   "execution_count": 1,
   "metadata": {},
   "outputs": [],
   "source": [
    "from random import randint\n",
    "import numpy as np\n",
    "from matplotlib import pyplot as plt\n",
    "from scipy.stats import norm\n",
    "from scipy import constants as const"
   ]
  },
  {
   "cell_type": "code",
   "execution_count": 2,
   "metadata": {},
   "outputs": [],
   "source": [
    "particles = 1000         # number of particles at x = 0\n",
    "time_steps = 100         # number of time steps \n",
    "d = 1                    # probability of a particle moving (in an arbitrary direction)\n",
    "h = 1                    # step length\n",
    "\n",
    "\n",
    "def random_walk(p_right, pos, h = 1):\n",
    "    '''Input: probability d, steplength h, and a temporary position vector pos_vec\n",
    "    (temporary meaning that the last element is at time t so that the return value is the position at time t + dt)\n",
    "    Output: the next location of the particle'''\n",
    "    \n",
    "    r = randint(0, 101) / 100           # Generates a random number between 0.01 and 1\n",
    "    if r <= p_right:                    # Right step\n",
    "        return pos + h\n",
    "    else:                               # Left step\n",
    "        return pos - h\n",
    "\n",
    "    \n",
    "def random_walk_in_1D(p_right = np.ones(201)*d/2):\n",
    "    '''Answer to part 3'''\n",
    "    \n",
    "    dist = np.zeros(particles)          # Distribution array\n",
    "    \n",
    "    for p in range(particles):          # Loops through every paricle\n",
    "        i = 0\n",
    "        for s in range(time_steps):     # Loops through time_steps per particle\n",
    "            i = random_walk(p_right[i+100], i)\n",
    "        dist[p] += i                    # Places the location of a particle in the distrubution array\n",
    "    \n",
    "    return dist\n",
    "\n",
    "\n",
    "dist_1D = random_walk_in_1D()\n",
    "\n",
    "\n",
    "def task_3_plot():\n",
    "    \n",
    "    #Plotting our data\n",
    "    x_axis = np.linspace(dist_1D.min(), dist_1D.max())\n",
    "   \n",
    "    title = f\"Particle distribution of {particles} particles after {time_steps} time steps.\"\n",
    "\n",
    "    fig, ax1 = plt.subplots()\n",
    "    plt.title(title)\n",
    "    #ax1.plot(x_axis, dist_1D, label=\"Particle distribution\")\n",
    "    ax1.hist(dist_1D, 100)\n",
    "    ax1.set_xlabel(\"x\")\n",
    "    ax1.set_ylabel(\"Number of particles\")\n",
    "\n",
    "    #Plotting a fitted normal distribution\n",
    "    muf, stdf = norm.fit(dist_1D)                            # the (ish) expected value and standard deviation of our particle  \n",
    "    norm_dist = norm.pdf(x_axis, loc = muf, scale = stdf)    # the fitted normal distribution\n",
    "    \n",
    "    ax2 = ax1.twinx()\n",
    "    ax2.set_ylabel(\"Probability\")\n",
    "    ax2.plot(x_axis, norm_dist, \"r-\" ,label=\"Fitted normal distr.\")\n",
    "    ax2.set_ylim(0, np.max(norm_dist)*1.05)\n",
    "    ax1.set_ylim(0, 1 / (np.sqrt(2*np.pi)*stdf) *2* particles*1.05)\n",
    "    #ax2.plot(x_axis, norm.pdf(x_axis, loc = 0, scale = np.sqrt(2*100)), \"b-\" ,label=\"Theory says\")\n",
    "\n",
    "    plt.legend()    \n",
    "    \n",
    "    print(f\"Theory says:\\tMu = {0}\\t\\tStd = {np.sqrt(2*100):.6}\")\n",
    "    print(f\"Men vi faar:\\tMu = {muf:.6}\\tStd = {stdf:.6}\")\n",
    "    plt.show()\n",
    "    \n",
    "    \n",
    "#task_3_plot()"
   ]
  },
  {
   "cell_type": "markdown",
   "metadata": {},
   "source": [
    "*Explanation of the results based on the theory from section 1 and 2*:\n"
   ]
  },
  {
   "cell_type": "markdown",
   "metadata": {},
   "source": [
    "## 4 $\\,$ Theory\n",
    "Skal vi skrive noe som helst her? "
   ]
  },
  {
   "cell_type": "markdown",
   "metadata": {},
   "source": [
    "## 5 $\\,$ Programming \n",
    "*Random walk in a potential*"
   ]
  },
  {
   "cell_type": "code",
   "execution_count": 3,
   "metadata": {},
   "outputs": [],
   "source": [
    "temperature = 298.15                      # Set to room temperature (25 Celcius)\n",
    "beta = 1 / (const.k * temperature)        # Where const.k is the Boltzmann constant and 298.15 is the temperature in kelvin\n",
    "beta_k = np.array([0.1, 0.5, 2, 5, 10])   # Selected values of the constant beta*k (here, k is NOT the Boltzmann constant)\n",
    "\n",
    "\n",
    "def p_right(V, x, k):\n",
    "    '''Function that calculates the probability of a particle moving right in a potential'''\n",
    "    return 1 / (1 + np.exp(-beta*(V(x-h, k) - V(x+h, k))))\n",
    "\n",
    "\n",
    "def plot_distribution(V, title):\n",
    "    '''funksjon som gjør alt for deg i oppgave 5 ;)\n",
    "    Finner fordeling, og plotter fordelinga og potensialet for de valgte verdiene for beta*k'''\n",
    "    x = np.linspace(-100, 100, 201)   # x-values that is used as a basis for the potential vector\n",
    "    \n",
    "    plt.figure(title) \n",
    "    \n",
    "    for k in beta_k/beta:\n",
    "        probability_vector = p_right(V, x, k)                 # an array consisting of the probabilities of a particle moving right based on the position and potential field\n",
    "        distribution = random_walk_in_1D(probability_vector)  # the particle distribution due to the field \n",
    "    \n",
    "        #Plotting the particle dirtibution\n",
    "        fig, ax1 = plt.subplots()\n",
    "        ax1.hist(distribution, bins=100, label=\"Particle distribution\")\n",
    "        ax1.set_xlabel(\"x\")\n",
    "        ax1.set_ylabel(\"Number of particles\")    \n",
    "    \n",
    "        # Plotting the potential\n",
    "        mi, ma = plt.xlim()\n",
    "        ax2 = ax1.twinx()\n",
    "        ax2.plot(x, V(x, k), \"k-\", label=f\"V(x) = {k:.2}x\\n\" + r\"$\\beta k$\"+ f\" = {k*beta:.3}\")\n",
    "        ax2.set_ylabel(\"J\")\n",
    "        ax2.set_xlim(mi, ma)\n",
    "    \n",
    "        plt.legend()\n",
    "        plt.show()"
   ]
  },
  {
   "cell_type": "markdown",
   "metadata": {},
   "source": [
    "### Excercise 5.1\n",
    "\n",
    "\\begin{equation}\n",
    "    V \\left( x \\right) = kx.\n",
    "\\end{equation}"
   ]
  },
  {
   "cell_type": "code",
   "execution_count": 4,
   "metadata": {},
   "outputs": [],
   "source": [
    "def V1(x, k):     #please kom på bedre navn, jeg orker ikke\n",
    "    return k*x\n",
    "\n",
    "\n",
    "title_5_1 = f\"Particle distribution of {particles} particles after {time_steps} time steps with potential V(x) = kx.\\n\"\n",
    "\n",
    "#plot_distribution(V1, title_5_1)"
   ]
  },
  {
   "cell_type": "markdown",
   "metadata": {},
   "source": [
    "### Excercise 5.2\n",
    "\n",
    "\\begin{align}\n",
    "    &V \\left( x \\right) = k, \\,\\,\\, \\text{for} -3h < x < 3h. \\\\\n",
    "    &V \\left( x \\right) = 0  \\quad \\text{otherwise.}\n",
    "\\end{align}"
   ]
  },
  {
   "cell_type": "code",
   "execution_count": 5,
   "metadata": {},
   "outputs": [],
   "source": [
    "def V2(x, k):                 #Nok et dårlig navn, trademark Maren Lium ;))\n",
    "    pot = np.zeros(len(x))\n",
    "    for i in range(len(x)):\n",
    "        if x[i] > -3*h and x[i] < 3*h:\n",
    "            pot[i] = k\n",
    "    return pot\n",
    "\n",
    "    \n",
    "#Denne tittelen er jævlig lang og dårlig mtp potensialforklaring heheheh :))\n",
    "title_5_2 = f\"Particle distribution of {particles} particles after {time_steps} time steps with constant potential in the middle???.\\n\"\n",
    "\n",
    "#plot_distribution(V2, title_5_2)"
   ]
  },
  {
   "cell_type": "markdown",
   "metadata": {},
   "source": [
    "### Excercise 5.3\n",
    "\n",
    "\\begin{align}\n",
    "    &V \\left( x \\right) = -k, \\quad \\text{for } x < -3h. \\\\\n",
    "    &V \\left( x \\right) = k \\left( -1 + 2 \\frac{x + 3h}{6h} \\right), \\quad \\text{for } -3h < x < 3h. \\\\\n",
    "    &V \\left( x \\right) = k, \\quad\\,\\,\\, \\text{for } x > 3h.\n",
    "\\end{align}"
   ]
  },
  {
   "cell_type": "code",
   "execution_count": 6,
   "metadata": {},
   "outputs": [],
   "source": [
    "def V3(x, k):   # Nei jeg prøvde ikke engang\n",
    "    pot = np.ones(len(x))\n",
    "    for i in range(len(x)):\n",
    "        if x[i] < -3*h:\n",
    "            pot[i] *= -k\n",
    "        elif x[i] > 3*h:\n",
    "            pot[i] *= k\n",
    "        else:\n",
    "            pot[i] *= k * (-1 + 2*(x[i] + 3*h) / 6*h)\n",
    "    return pot\n",
    "\n",
    "\n",
    "title_5_3 = f\"Particle distribution of {particles} particles after {time_steps} time steps with funky potential (???).\\n\"\n",
    "\n",
    "#plot_distribution(V3, title_5_3)"
   ]
  },
  {
   "cell_type": "markdown",
   "metadata": {},
   "source": []
  },
  {
   "cell_type": "code",
   "execution_count": null,
   "metadata": {},
   "outputs": [],
   "source": []
  },
  {
   "cell_type": "markdown",
   "metadata": {
    "collapsed": true
   },
   "source": [
    "### Excercise 7.1"
   ]
  },
  {
   "cell_type": "code",
   "execution_count": 71,
   "metadata": {},
   "outputs": [
    {
     "name": "stdout",
     "output_type": "stream",
     "text": [
      "hei\n",
      "hei\n",
      "250\n",
      "hei\n"
     ]
    },
    {
     "data": {
      "image/png": "[encoded data removed]",
      "text/plain": [
       "<Figure size 432x288 with 2 Axes>"
      ]
     },
     "metadata": {
      "needs_background": "light"
     },
     "output_type": "display_data"
    },
    {
     "data": {
      "image/png": "[encoded data removed]",
      "text/plain": [
       "<Figure size 432x288 with 1 Axes>"
      ]
     },
     "metadata": {
      "needs_background": "light"
     },
     "output_type": "display_data"
    },
    {
     "data": {
      "text/plain": [
       "<Figure size 432x288 with 0 Axes>"
      ]
     },
     "metadata": {},
     "output_type": "display_data"
    },
    {
     "data": {
      "image/png": "[encoded data removed]",
      "text/plain": [
       "<Figure size 432x288 with 2 Axes>"
      ]
     },
     "metadata": {
      "needs_background": "light"
     },
     "output_type": "display_data"
    },
    {
     "data": {
      "image/png": "[encoded data removed]",
      "text/plain": [
       "<Figure size 432x288 with 1 Axes>"
      ]
     },
     "metadata": {
      "needs_background": "light"
     },
     "output_type": "display_data"
    }
   ],
   "source": [
    "#initial conditions\n",
    "Na_in_init = 60//2\n",
    "Na_out_init = 1450//2\n",
    "K_in_init= 1400//2\n",
    "K_out_init = 50//2\n",
    "T0 = 273 + 37\n",
    "beta = 1 / (const.k * T0) \n",
    "beta_V0 = [0,1,3]\n",
    "L = 50\n",
    "C_c = 0.07 * const.e\n",
    "time_steps = 500\n",
    "print(\"hei\")\n",
    "\n",
    "def calculate_normalized_potential(x, K_in, Na_in, membrane_pot):\n",
    "    pot = np.zeros(len(x))\n",
    "    for i in range(len(x)//2):\n",
    "        pot[i] = (Na_in + K_in - Na_out_init - K_out_init) * 0.1e-3 * const.e**2*beta / C_c \n",
    "    pot[L//2] = (Na_in + K_in - Na_out_init - K_out_init) * 0.1e-3 *const.e**2 * beta / (C_c * 2)\n",
    "    for i in range(L//2-1, L//2+2):\n",
    "        pot[i] += membrane_pot\n",
    "    return pot\n",
    "\n",
    "\n",
    "def step(V_minus, V_plus):\n",
    "    r = randint(0, 101) / 100 \n",
    "    p = 1 / (1 + np.exp(-beta*(V_minus - V_plus)))\n",
    "    if r <= p:\n",
    "        return -1\n",
    "    else:\n",
    "        return 1\n",
    "    \n",
    "def plot_distribution2(V0, title):\n",
    "    x = np.linspace(-L/2, L/2, L+1)   # x-values that is used as a basis for the potential vector\n",
    "    \"\"\"\n",
    "    dist_K = np.zeros(L+1)\n",
    "    dist_Na = np.zeros(L+1)\n",
    "    dist_K[L//4]=K_out_init\n",
    "    dist_K[3*L//4]=K_in_init\n",
    "    dist_Na[L//4]=Na_out_init\n",
    "    dist_Na[3*L//4]=Na_in_init\n",
    "    \n",
    "    pot = calculate_normalized_potential(x, K_in_init, Na_in_init, V0)\n",
    "    \n",
    "    for t in range(time_steps):\n",
    "        dist_K_new = dist_K.copy()\n",
    "        dist_Na_new = dist_Na.copy()\n",
    "        for i in range(len(dist_K)):\n",
    "            for j in range(int(dist_K[i])):\n",
    "                dist_K_new[i + step(pot[i-1], pot[i+1])] += 1\n",
    "                print(\"K\")\n",
    "            for j in range(int(dist_Na[i])):\n",
    "                dist_Na_new[i + step(pot[i-1], pot[i+1])] += 1\n",
    "                print(\"N\")\n",
    "        dist_K = dist_K_new \n",
    "        dist_Na = dist_Na_new\n",
    "        K_in = np.sum(dist_K_new[:len(dist_K_new)//2])\n",
    "        Na_in = np.sum(dist_Na_new[:len(x)//2-1])\n",
    "        pot = calculate_normalized_potential(x, K_in, Na_in, V0)\n",
    "    \"\"\"\n",
    "    \n",
    "    dist_K = np.empty(K_out_init + K_in_init)\n",
    "    dist_K.fill(-L//4)\n",
    "    for n in range(K_out_init):\n",
    "        dist_K[n]=L//4\n",
    "    dist_Na = np.empty(Na_out_init + Na_in_init)\n",
    "    dist_Na.fill(-L//4)\n",
    "    for n in range(Na_out_init):\n",
    "        dist_Na[n]=L//4\n",
    "    \n",
    "    pot = calculate_normalized_potential(x, K_in_init, Na_in_init, V0)\n",
    "    \n",
    "    dist = np.append(dist_K, dist_Na)\n",
    "    fig, ax1 = plt.subplots()\n",
    "    ax1.hist(dist, bins=100, label=\"Particle distribution\")\n",
    "    ax1.set_xlabel(\"x\")\n",
    "    ax1.set_ylabel(\"Number of particles\")    \n",
    "    \n",
    "    # Plotting the potential\n",
    "    mi, ma = plt.xlim()\n",
    "    ax2 = ax1.twinx()\n",
    "    ax2.plot(x, pot, \"k-\", label=r\"$\\beta k$\")\n",
    "    ax2.set_ylabel(\"J\")\n",
    "    ax2.set_xlim(mi, ma)\n",
    "\n",
    "    pot_vec=np.array([pot[2]])\n",
    "    for t in range(time_steps):\n",
    "        for i in range(len(dist_K)):\n",
    "            if dist_K[i]>=L/2:\n",
    "                dist_K[i]-=1\n",
    "            elif dist_K[i]<=-L/2:\n",
    "                dist_K[i]+=1\n",
    "            else:\n",
    "                dist_K[i]+=step(pot[int(dist_K[i])-1], pot[int(dist_K[i])+1])\n",
    "        for j in range(len(dist_Na)):\n",
    "            if dist_Na[j]>=L/2:\n",
    "                dist_Na[j]-=1\n",
    "            elif dist_Na[j]<=-L/2:\n",
    "                dist_Na[j]+=1\n",
    "            else:\n",
    "                dist_Na[j]+=step(pot[int(dist_Na[j])-1], pot[int(dist_Na[j])+1])\n",
    "        K_in = len([1 for n in dist_K if n<-1])\n",
    "        Na_in = len([1 for n in dist_Na if n<-1])\n",
    "        pot = calculate_normalized_potential(x, K_in, Na_in, V0)\n",
    "        pot_vec = np.append(pot_vec, [pot[2]])\n",
    "        if t == 250:\n",
    "            print(\"250\")\n",
    "            dist = np.append(dist_K, dist_Na)\n",
    "            fig, ax1 = plt.subplots()\n",
    "            ax1.hist(dist, bins=100, label=\"Particle distribution\")\n",
    "            ax1.set_xlabel(\"x\")\n",
    "            ax1.set_ylabel(\"Number of particles\")   \n",
    "            \n",
    "        \n",
    "    plt.figure(title)\n",
    "                       \n",
    "    #Plotting the particle dirtibution\n",
    "    dist = np.append(dist_K, dist_Na)\n",
    "    fig, ax1 = plt.subplots()\n",
    "    ax1.hist(dist, bins=100, label=\"Particle distribution\")\n",
    "    ax1.set_xlabel(\"x\")\n",
    "    ax1.set_ylabel(\"Number of particles\")    \n",
    "    \n",
    "    # Plotting the potential\n",
    "    mi, ma = plt.xlim()\n",
    "    ax2 = ax1.twinx()\n",
    "    ax2.plot(x, pot, \"k-\", label=r\"$\\beta k$\")\n",
    "    ax2.set_ylabel(\"J\")\n",
    "    ax2.set_xlim(mi, ma)\n",
    "    \n",
    "    plt.figure(\"fig2\")\n",
    "    plt.plot([n for n in range(len(pot_vec))], pot_vec)\n",
    "    \"\"\"                   \n",
    "    #Plotting the particle dirtibution\n",
    "    fig2, ax3 = plt.subplots()\n",
    "    ax3.hist(dist_Na, bins=100, label=\"Particle distribution\")\n",
    "    ax3.set_xlabel(\"x\")\n",
    "    ax3.set_ylabel(\"Number of particles\")    \n",
    "    \n",
    "    # Plotting the potential\n",
    "    mi, ma = plt.xlim()\n",
    "    ax4 = ax3.twinx()\n",
    "    ax4.plot(x, pot, \"k-\", label=r\"$\\beta k$\")\n",
    "    ax4.set_ylabel(\"J\")\n",
    "    ax4.set_xlim(mi, ma)\n",
    "    \"\"\"\n",
    "    #plt.legend()\n",
    "    #plt.show()\n",
    "\n",
    "print(\"hei\")\n",
    "plot_distribution2(0, \"hei\")\n",
    "print(\"hei\")"
   ]
  },
  {
   "cell_type": "code",
   "execution_count": null,
   "metadata": {},
   "outputs": [],
   "source": []
  },
  {
   "cell_type": "code",
   "execution_count": null,
   "metadata": {},
   "outputs": [],
   "source": []
  }
 ],
 "metadata": {
  "kernelspec": {
   "display_name": "Python 3",
   "language": "python",
   "name": "python3"
  },
  "language_info": {
   "codemirror_mode": {
    "name": "ipython",
    "version": 3
   },
   "file_extension": ".py",
   "mimetype": "text/x-python",
   "name": "python",
   "nbconvert_exporter": "python",
   "pygments_lexer": "ipython3",
   "version": "3.7.1"
  }
 },
 "nbformat": 4,
 "nbformat_minor": 2
}
