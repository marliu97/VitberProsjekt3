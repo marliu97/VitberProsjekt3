{
 "cells": [
  {
   "cell_type": "markdown",
   "metadata": {},
   "source": [
    "# TMA4320 - Project 3: <br> Simulating the action potential with random walk of ions\n",
    "**Group number:** 27 <br>\n",
    "**Group members:** Marte K. Høiskar, Maren Lium and Johanna U. Marstrander"
   ]
  },
  {
   "cell_type": "markdown",
   "metadata": {},
   "source": [
    "## 1 $\\,$ Theory\n",
    "\n",
    "In one dimention the diffusion equation takes the form \n",
    "\n",
    "\\begin{equation}\n",
    "    \\frac{\\partial \\phi \\left( x, t \\right)}{\\partial x} = \\frac{\\partial}{\\partial x} \\left(D \\left(x \\right) \\frac{\\partial \\phi (x, t)}{\\partial x} \\right)\n",
    "\\end{equation}\n",
    "\n",
    "where $\\phi(x,t)$ is the distribution of a substance and $D(x)$ is the (position dependent) diffusion coefficient.\n",
    "\n",
    "## 2 $\\,$ The diffusion equation\n",
    "\n",
    "### Excercise 2.1\n",
    "We want to show that the function\n",
    "\n",
    "\\begin{equation}\n",
    "    \\tilde{\\phi} \\left( x, t \\right) = \\frac{1}{\\sqrt{4 \\pi D t}} e^{ - \\frac{\\left( x - \\mu \\right)^2}{4Dt} },\n",
    "\\end{equation}\n",
    "\n",
    "where D is a constant, is a solution of the diffusion equation. When D is a constant, the diffusion equation takes the form\n",
    "\n",
    "\\begin{equation}\n",
    "    \\frac{\\partial \\phi \\left( x, t \\right)}{\\partial t} = D \\frac{\\partial^2 \\phi (x, t)}{\\partial x^2}.\n",
    "\\end{equation}\n",
    "\n",
    "Calculating the partial derivatives of $\\tilde{\\phi} \\left( x, t \\right)$:\n",
    "\n",
    "\\begin{align}\n",
    "    \\frac{\\partial \\tilde{\\phi} \\left( x, t \\right)}{\\partial t} &= e^{-\\frac{(x-\\mu)^2}{4Dt}}\\frac{\\partial}{\\partial t} \\frac{1}{\\sqrt{4 \\pi Dt}} + \\frac{1}{\\sqrt{4 \\pi Dt}}\\frac{\\partial}{\\partial t} e^{-\\frac{(x-\\mu)^2}{4Dt}} \\\\\n",
    "     &= \\frac{- 4\\pi D}{2 \\left( 4\\pi Dt \\right)^{\\frac{3}{2}}}e^{-\\frac{(x-\\mu)^2}{4Dt}}+\\frac{1}{\\sqrt{4 \\pi Dt}} \\left( e^{-\\frac{(x-\\mu)^2}{4Dt}} \\frac{(x-\\mu)^2}{4Dt^2}  \\right ) \\\\\n",
    "     &= \\frac{e^{\\frac{(x-\\mu)^2}{4Dt}}}{\\sqrt{4\\pi Dt}} \\left ( \\frac{(x-\\mu)^2}{4Dt^2}-\\frac{1}{2t} \\right ) \\\\ \\\\\n",
    "      \\frac{\\partial \\tilde{\\phi} \\left( x,t \\right)}{\\partial x} &= \\frac{1}{\\sqrt{4 \\pi Dt}}\\frac{\\partial}{\\partial x} e^{-\\frac{(x-\\mu)^2}{4Dt}} \\\\\n",
    "      &= \\frac{1}{\\sqrt{4 \\pi Dt}}e^{-\\frac{(x-\\mu)^2}{4Dt}} \\left( -\\frac{2(x-\\mu)}{4Dt} \\right) \\\\\n",
    "       &= -\\frac{e^{-\\frac{(x-\\mu)^2}{4Dt}}}{2Dt\\sqrt{4\\pi Dt}} \\left( x-\\mu \\right) \\\\ \\\\\n",
    "      \\frac{\\partial^2 \\tilde{\\phi} \\left( x,t \\right)}{\\partial x^2} &= -\\frac{1}{2Dt\\sqrt{4\\pi Dt}} \\left ( (x-\\mu) \\frac{\\partial}{\\partial x} \\left( e^{-\\frac{(x-\\mu)^2}{4Dt}} \\right) + e^{-\\frac{(x-\\mu)^2}{4Dt}}\\frac{\\partial}{\\partial x}(x-\\mu) \\right) \\\\\n",
    "      &= -\\frac{1}{2Dt\\sqrt{4\\pi Dt}} \\left( -e^{-\\frac{(x-\\mu)^2}{4Dt}}\\frac{2(x-\\mu)^2}{4Dt}+e^{-\\frac{(x-\\mu)^2}{4Dt}} \\right) \\\\\n",
    "      &= \\frac{e^{\\frac{(x-\\mu)^2}{4Dt}}}{D\\sqrt{4\\pi Dt}} \\left ( \\frac{(x-\\mu)^2}{4Dt^2}-\\frac{1}{2t} \\right )\n",
    "\\end{align}\n",
    "\n",
    "Thus, \n",
    "\n",
    "\\begin{equation}\n",
    "    \\frac{\\partial \\tilde{\\phi} \\left( x, t \\right)}{\\partial t} = \\frac{e^{\\frac{(x-\\mu)^2}{4Dt}}}{\\sqrt{4\\pi Dt}} \\left ( \\frac{(x-\\mu)^2}{4Dt^2}-\\frac{1}{2t} \\right ) = D \\frac{\\partial^2 \\tilde{\\phi} (x, t)}{\\partial x^2},\n",
    "\\end{equation}\n",
    "\n",
    "and $\\tilde{\\phi} \\left( x, t \\right)$ is a solution to the diffusion equation."
   ]
  },
  {
   "cell_type": "markdown",
   "metadata": {},
   "source": [
    "### Excercise 2.2\n",
    "#### 2.2.1\n",
    "We want to find the particle distribution at a time $t$, given the initial particle distribution\n",
    "\n",
    "\\begin{equation}\n",
    "    \\phi \\left( x, 0 \\right)\n",
    "    =\n",
    "    \\delta \\left( x - x_0 \\right),\n",
    "\\end{equation}\n",
    "\n",
    "where $\\delta(x)$ is the dirac delta function. The dirac delta function can be rewritten to the form \n",
    "\n",
    "\\begin{equation}\n",
    "    \\delta \\left( x - x_0 \\right)\n",
    "    = \\frac{1}{2 \\pi} \\int_{-\\infty}^{\\infty} e^{-ik \\left( x - x_0 \\right)} \\text{d}k,\n",
    "\\end{equation}\n",
    "\n",
    "and derivating this twice with regards to $x$ yields\n",
    "\n",
    "\\begin{equation}\n",
    "    \\frac{\\partial^2}{\\partial x^2} \\delta \\left( x - x_0 \\right)\n",
    "    = \\frac{1}{2 \\pi} \\int_{-\\infty}^{\\infty} \\frac{\\partial^2}{\\partial x^2} e^{-ik \\left( x - x_0 \\right)} \\text{d}k\n",
    "    = \\frac{1}{2 \\pi} \\int_{-\\infty}^{\\infty} \\left( -k^2 \\right) e^{-ik \\left( x - x_0 \\right)} \\text{d}k.\n",
    "\\end{equation}\n",
    "\n",
    "The Taylor expansion of $\\phi(x, t)$ is given by\n",
    "\n",
    "\\begin{equation}\n",
    "    \\phi \\left( x, t \\right) \n",
    "    = \\phi \\left( x, 0 \\right) + \\sum_{n=1}^{\\infty} \\frac{t^n}{n!} \\left. \\frac{\\partial^n \\phi \\left( x, \\tau \\right)}{\\partial \\tau^n} \\right|_{\\tau=0} \n",
    "    = \\sum_{n=0}^{\\infty} \\frac{t^n}{n!} \\left. \\frac{\\partial^n \\phi \\left( x, \\tau \\right)}{\\partial \\tau^n} \\right|_{\\tau=0}. \n",
    "\\end{equation}\n",
    "\n",
    "By using this expression for the particle distribution $\\phi(x, t)$ in the diffusion equation, we get\n",
    "\n",
    "\\begin{align} \n",
    "    \\frac{\\partial \\phi}{\\partial t} \n",
    "    &= D \\frac{\\partial^2 \\phi}{\\partial x^2} \n",
    "    \\\\\n",
    "    \\sum_{n=0}^{\\infty} \\frac{t^n}{n!} \\left. \\frac{\\partial^{n+1} \\phi \\left( x, \\tau \\right)}{\\partial \\tau^{n+1}} \\right|_{\\tau=0} \n",
    "    &= D \\sum_{n=0}^{\\infty} \\frac{t^n}{n!} \\left. \\frac{\\partial^{n+2} \\phi \\left( x, \\tau \\right)}{\\partial x^2 \\partial \\tau^n} \\right|_{\\tau=0}\n",
    "\\end{align}\n",
    "\n",
    "In order for this equality to be valid, the sums has be equal. Thus \n",
    "\n",
    "\\begin{equation}\n",
    "    \\left. \\frac{\\partial^{n+1} \\phi \\left( x, \\tau \\right)}{\\partial \\tau^{n+1}} \\right|_{\\tau=0} \n",
    "    = D \\left. \\frac{\\partial^{n+2} \\phi \\left( x, \\tau \\right)}{\\partial x^2 \\partial \\tau^n} \\right|_{\\tau=0} \\quad \\text{for } n = 0, 1, 2, ..., \n",
    "\\end{equation}\n",
    "\n",
    "which can be used to find a recursive formula for the $n$-th derivative of $\\phi(x, \\tau)$ in $\\tau = 0$,\n",
    "\n",
    "\\begin{equation}\n",
    "    \\left. \\frac{\\partial^{n} \\phi \\left( x, \\tau \\right)}{\\partial \\tau^{n}} \\right|_{\\tau=0} \n",
    "    = D \\left. \\frac{\\partial^{2}}{\\partial x^2} \\frac{\\partial^{n-1} \\phi \\left( x, \\tau \\right)}{\\partial \\tau^{n-1}} \\right|_{\\tau=0}\n",
    "    = D^n \\left. \\frac{\\partial^{2n} \\phi \\left( x, \\tau \\right)}{\\partial x^{2n}}  \\right|_{\\tau=0}\n",
    "    = D^n \\frac{\\partial^{2n} \\phi \\left( x, 0 \\right)}{\\partial x^{2n}}.\n",
    "\\end{equation}\n",
    "\n",
    "By using this result in the Taylor expansion of $\\phi(x, t)$, we get\n",
    "\n",
    "\\begin{equation}\n",
    "    \\phi \\left( x, t \\right)\n",
    "    = \\sum_{n=0}^{\\infty} D^n \\frac{t^n}{n!} \\frac{\\partial^{2n} \\phi \\left( x, 0 \\right)}{\\partial x^{2n}}\n",
    "    = \\frac{1}{2 \\pi} \\int_{-\\infty}^{\\infty} e^{-ik \\left( x - x_0 \\right)} \\sum_{n=0}^{\\infty} \\frac{\\left( -Dk^2 t \\right)^n}{n!} \\text{d}k,\n",
    "\\end{equation}\n",
    "\n",
    "where $\\sum_{n=0}^{\\infty} \\frac{\\left( -Dk^2 t \\right)^n}{n!}$ is the Taylor expansion of $e^{-Dk^2t}$. Thus\n",
    "\n",
    "\\begin{equation}\n",
    "    \\phi \\left( x, t \\right)\n",
    "    = \\frac{1}{2 \\pi} \\int_{-\\infty}^{\\infty} e^{-Dk^2t}  e^{-ik \\left( x - x_0 \\right)} \\text{d}k.\n",
    "\\end{equation}\n",
    "\n",
    "\n",
    "*Solution of the integral:*\n",
    "\n",
    "The integral form of $\\phi(x, t)$ can be rewritten to the form\n",
    "\n",
    "\\begin{equation}\n",
    "    \\phi \\left( x, t \\right) \n",
    "    = \\frac{1}{2 \\pi} \\int_{-\\infty}^{\\infty} e^{-D k^2 t} e^{-ik \\left( x - x_0 \\right)} \\text{d}k \n",
    "    = \\frac{1}{2 \\pi} \\int_{-\\infty}^{\\infty} e^{- \\left( \\sqrt{Dt}k + \\frac{i \\left( x - x_0 \\right)}{\\sqrt{4Dt}} \\right)^2} e^{- \\frac{\\left( x - x_0 \\right)^2 }{4Dt}} \\text{d}k. \n",
    "\\end{equation}\n",
    "\n",
    "By defining $z = \\sqrt{Dt}k + \\frac{i \\left( x - x_0 \\right)}{\\sqrt{4Dt}}$ and using substitution such that $\\text{d}k = \\frac{\\text{d}z}{\\sqrt{Dt}}$, the integral yields\n",
    "\n",
    "\\begin{equation}\n",
    "    \\phi \\left( x, t \\right) \n",
    "    =  \\frac{1}{\\pi \\sqrt{4Dt}} e^{- \\frac{\\left( x - x_0 \\right)^2 }{4Dt}} \\int_{-\\infty}^{\\infty} e^{z^2} \\text{d}z, \n",
    "\\end{equation}\n",
    "\n",
    "which can be solved since the solution of the integral $\\int_{-\\infty}^{\\infty} e^{z^2} \\text{d}z = \\sqrt{\\pi}$ is known. The final solution is\n",
    "\n",
    "\\begin{equation}\n",
    "    \\phi \\left( x, t \\right) \n",
    "    = \\frac{1}{\\sqrt{4 \\pi Dt}} e^{- \\frac{\\left( x - x_0 \\right)^2 }{4Dt}}.\n",
    "\\end{equation}"
   ]
  },
  {
   "cell_type": "markdown",
   "metadata": {},
   "source": [
    "#### 2.2.2\n",
    "\n",
    "The formula for $\\phi (x, t)$ that was found in task 2.2.1 takes the form of a normal distribution, with expectation $\\mu_{dist} = x_0$ and standard deviation $\\sigma_{dist} = \\sqrt{2Dt}$. In other words, the standard deviation increases with the root of $Dt$, such that higher *diffusivity* ($D$) causes faster diffusion. A physical interpretation is therefore that the diffusion coefficient is a measure of how fast particles spreads in a medium."
   ]
  },
  {
   "cell_type": "markdown",
   "metadata": {},
   "source": [
    "#### 2.2.3\n",
    "Given an arbitrary starting distribution $\\phi (x, 0) = g(x)$, the time evolution $\\phi(x, t)$ can be found by using fourier transform of the diffusion equation, \n",
    "\n",
    "\\begin{equation}\n",
    "    \\frac{\\partial}{\\partial t} \\hat{\\phi} \\left( k, t \\right)\n",
    "    = - D k^2 \\hat{\\phi} \\left( k, t \\right),\n",
    "\\end{equation}\n",
    "\n",
    "which yields a solution on the form\n",
    "\n",
    "\\begin{equation}\n",
    "    \\hat{\\phi} \\left( k, t \\right) = C(k) e^{-D k^2 t}.\n",
    "\\end{equation}\n",
    "\n",
    "By realising that $g(x) = \\mathcal{F} \\left[ \\hat{\\phi} \\left( k, 0 \\right) \\right] = \\mathcal{F} \\left[ C(k) \\right]$, such that\n",
    "\n",
    "\\begin{equation}\n",
    "    \\hat{\\phi} \\left( k, t \\right) = \\hat{g} \\left( k \\right) e^{-D k^2 t},\n",
    "\\end{equation}\n",
    "\n",
    "one can find the time evolution by solving the inverse fourier integral of $\\hat{\\phi} \\left( k, t \\right)$,\n",
    "\n",
    "\\begin{equation}\n",
    "    \\phi \\left( x, t \\right)\n",
    "    = \\frac{1}{\\sqrt{2 \\pi}} \\int_{-\\infty}^{\\infty} \\hat{\\phi} \\left(k, t \\right) e^{i k x} \\text{d}k \n",
    "    = \\frac{1}{\\sqrt{2 \\pi}} \\int_{-\\infty}^{\\infty} \\hat{g} \\left(k \\right) e^{-D k^2 t} e^{i k x} \\text{d}k.\n",
    "\\end{equation}"
   ]
  },
  {
   "cell_type": "markdown",
   "metadata": {},
   "source": [
    "## 3 $\\,$ Random walk in 1D\n"
   ]
  },
  {
   "cell_type": "markdown",
   "metadata": {},
   "source": [
    "In the following cell we import nessecary modules. "
   ]
  },
  {
   "cell_type": "code",
   "execution_count": null,
   "metadata": {},
   "outputs": [],
   "source": [
    "from random import randint\n",
    "from random import seed\n",
    "from datetime import datetime\n",
    "import numpy as np\n",
    "from matplotlib import pyplot as plt\n",
    "from scipy.stats import norm\n",
    "from scipy import constants as const"
   ]
  },
  {
   "cell_type": "markdown",
   "metadata": {},
   "source": [
    "In order to plot the particle distribution, we have created two supporting functions, <font color = 'blue'> random walk</font> and <font color = 'blue'>random_walk_in_1D</font>. \n",
    "\n",
    "<font color = 'blue'> random walk</font> returns the next location of the particle given the steplength $h$ and position **pos** of the particle as well as the probability **p_right** of the particle moving to the right. <font color = 'blue'> random_walk_in_1D</font> takes in a vector **p_right** as an argument, which contains the probability of a particle moving to the right at different locations. The function returns the distribution array of the given particles after a certain number of time steps. <br>\n",
    "\n",
    "We also define some nessecary constants. "
   ]
  },
  {
   "cell_type": "code",
   "execution_count": null,
   "metadata": {},
   "outputs": [],
   "source": [
    "particles = 1000         # number of particles at x = 0\n",
    "time_steps = 100         # number of time steps \n",
    "h = 1                    # step length\n",
    "\n",
    "\n",
    "def random_walk(p_right, pos, h = 1):\n",
    "    r = randint(0, 101) / 100           # Generates a random number between 0 and 1\n",
    "    if r <= p_right:                    # Right step\n",
    "        return pos + h\n",
    "    else:                               # Left step\n",
    "        return pos - h\n",
    "\n",
    "    \n",
    "def random_walk_in_1D(p_right = np.ones(201)*1/2):\n",
    "    dist = np.zeros(particles)          # Distribution array\n",
    "    for p in range(particles):          # Loops through every paricle\n",
    "        i = 0\n",
    "        #seed(datetime.now())\n",
    "        for s in range(time_steps):     # Loops through time_steps per particle\n",
    "            i = random_walk(p_right[i+100], i)\n",
    "        dist[p] += i                    # Places the location of a particle in the distrubution array\n",
    "    \n",
    "    return dist"
   ]
  },
  {
   "cell_type": "markdown",
   "metadata": {},
   "source": [
    "<font color = 'blue'>task_3_plot</font> finds the distribution of particles after **time_steps** iterations using the supporting functions and fits the data to a normal distribution. If the boolean variable plot is set to <font color=\"green\">**True**</font> (the default value), both the data and the normal distribution is plotted. \n",
    "<font color = 'blue'>stats</font> runs the simulations multiple times to calculate an interval for the expected value and variance of the normal distribution found in <font color = 'blue'>task_3_plot</font>."
   ]
  },
  {
   "cell_type": "code",
   "execution_count": null,
   "metadata": {},
   "outputs": [],
   "source": [
    "particles = 1000         # number of particles at x = 0\n",
    "time_steps = 100         # number of time steps \n",
    "\n",
    "\n",
    "def task_3_plot(plot = True):\n",
    "\n",
    "    dist_1D = random_walk_in_1D()           # Creates the particle distribution after the particles have been through a random walk\n",
    "    x_axis = np.linspace(dist_1D.min(), dist_1D.max())\n",
    "    \n",
    "    muf, stdf = norm.fit(dist_1D)                            # the expected value and standard deviation of our particles  \n",
    "    norm_dist = norm.pdf(x_axis, loc = muf, scale = stdf)    # the fitted normal distribution\n",
    "    \n",
    "    #Plotting our data and a fitted normal distribution\n",
    "    if plot:\n",
    "        title = f\"Particle distribution of {particles} particles after {time_steps} time steps.\"\n",
    "        fig, ax1 = plt.subplots()\n",
    "        plt.title(title)\n",
    "        ax1.hist(dist_1D, 100, label = \"Particle distribution\")\n",
    "        ax1.set_xlabel(\"x\")\n",
    "        ax1.set_ylabel(\"Number of particles\")\n",
    "\n",
    "        ax2 = ax1.twinx()\n",
    "        ax2.set_ylabel(\"Probability\")\n",
    "        ax2.plot(x_axis, norm_dist, \"r-\" , label=\"Fitted normal distr.\")\n",
    "        ax2.set_ylim(0, np.max(norm_dist)*1.05)\n",
    "        ax1.set_ylim(0, 1 / (np.sqrt(2*np.pi)*stdf) *2* particles*1.05)\n",
    "        \n",
    "        lines, labels = ax1.get_legend_handles_labels()\n",
    "        lines2, labels2 = ax2.get_legend_handles_labels()\n",
    "        ax2.legend(lines+lines2, labels+labels2, loc=0)\n",
    "        \n",
    "        plt.show()\n",
    "\n",
    "    return muf, stdf\n",
    "    \n",
    "    \n",
    "def stat(runs):\n",
    "    mu_stat = np.zeros(runs)\n",
    "    std_stat = np.zeros(runs)\n",
    "    for n in range (runs):\n",
    "        muf, stdf = task_3_plot(False)\n",
    "        mu_stat[n] = muf\n",
    "        std_stat[n] = stdf\n",
    "    min_mu = mu_stat.min()\n",
    "    maks_mu = mu_stat.max()\n",
    "    min_std = std_stat.min()\n",
    "    maks_std = std_stat.max()\n",
    "    return min_mu, maks_mu, min_std, maks_std\n",
    "   \n",
    "    \n",
    "task_3_plot()\n",
    "min_mu, maks_mu, min_std, maks_std = stat(100)\n",
    "print(\"Lowest expextation value:\", min_mu, \"Highest expextation value:\", maks_mu)\n",
    "print(\"Lowest standard deviation:\", min_std, \"Highest standard deviation:\", maks_std)"
   ]
  },
  {
   "cell_type": "markdown",
   "metadata": {},
   "source": [
    "Theory Section 1 shows that diffusion is driven by random walk. Hence, the distribution of particles undergoing random walk can be described by the diffusion equation. In Exercise 2 it has been shown that the normal distribution function with expectation value and standard deviation equal to $\\mu = x_{0}$ and $\\sigma = \\sqrt{2Dt} $, respectively, is a solution to the diffusion equation. In this exercise, the particles start at $x_{0} = 0$ and the number of time steps is $100$. \n",
    "This corresponds to a diffusion constant approximately equal to 0.5. \n",
    "\n",
    "The plot shows the particle distribution of $1000$ particles after $100$ time steps. The plot shows that a normal distribution fitted to the particle distribution fits reasonably well. By running the function several times, the  value of expectation is calculated to be approximately between $\\mu = -0.7$ and $\\mu = 1$. The variance is calculated to be approximately between $\\sigma = 9.4$ and $\\sigma=10.6$. Hence, the particle distribution plot can verify that the normal distribution can model how particles subjected to a random walk will be scattered. "
   ]
  },
  {
   "cell_type": "markdown",
   "metadata": {},
   "source": [
    "## 5 $\\,$ Random walk in a potential\n",
    "\n",
    "First we define a supporting function <font color = 'blue'>p_right</font> which will be used in the plotting function. <font color = 'blue'>p_right</font> returns an array containing the probability of a particle moving to the right, given a potential field $V$ and position vector **x**. In Theory Section 4 it was shown that this probability is given by\n",
    "\n",
    "\\begin{equation}\n",
    "    P = \\frac{1}{1+e^{-\\beta \\left[ V(x-h)-V(x+h) \\right]}}. \n",
    "\\end{equation}\n",
    "\n",
    "\n",
    "<font color = 'blue'>plot_distribution</font> plots the potential and the particle distribution after the random walk simulation, for a set of values of $\\beta k$ given by the array **beta_k** and for a given potential $V$.  "
   ]
  },
  {
   "cell_type": "code",
   "execution_count": null,
   "metadata": {},
   "outputs": [],
   "source": [
    "temperature = 298.15                      # the temperature set to room temperature (25 Celcius) in Kelvin\n",
    "beta = 1 / (const.k * temperature)        # the constant beta, where const.k is the Boltzmann constant\n",
    "beta_k = np.array([0, 0.5, 1.5, 3, 10])   # selected values of the constant beta*k (here, k is NOT the Boltzmann constant)\n",
    "\n",
    "\n",
    "def p_right(V, x, k):\n",
    "    return 1 / (1 + np.exp(-beta*(V(x-h, k) - V(x+h, k))))\n",
    "\n",
    "\n",
    "def plot_distribution(V, title):\n",
    "    x = np.linspace(-100, 100, 201)   # x-values that is used as a basis for the potential vector\n",
    "    \n",
    "    plt.figure(title) \n",
    "    \n",
    "    for bk in beta_k:\n",
    "        probability_vector = p_right(V, x, bk/beta)                 # an array consisting of the probabilities of a particle moving right based on the position and potential field\n",
    "    \n",
    "        distribution = random_walk_in_1D(probability_vector)  # the particle distribution due to the field \n",
    "        \n",
    "        #Plotting the particle dirtibution\n",
    "        title = title + r\"$\\beta k$\" + f\" = {bk:.3}\"\n",
    "        fig, ax1 = plt.subplots()\n",
    "        ax1.set_title(title)\n",
    "        ax1.hist(distribution, bins=100, label=\"Particle distribution\")\n",
    "        ax1.set_xlabel(\"x\")\n",
    "        ax1.set_ylabel(\"Number of particles\")    \n",
    "    \n",
    "        # Plotting the potential\n",
    "        mi, ma = plt.xlim()\n",
    "        ax2 = ax1.twinx()\n",
    "        ax2.plot(x, V(x, bk/beta), \"k-\", label=\"V(x)\")\n",
    "        ax2.set_ylabel(\"J\")\n",
    "        ax2.set_xlim(mi, ma)\n",
    "    \n",
    "        lines, labels = ax1.get_legend_handles_labels()\n",
    "        lines2, labels2 = ax2.get_legend_handles_labels()\n",
    "        ax2.legend(lines + lines2, labels + labels2, loc=0)\n",
    "        \n",
    "        plt.show()\n",
    "        \n",
    "        title = \"\""
   ]
  },
  {
   "cell_type": "markdown",
   "metadata": {},
   "source": [
    "### Excercise 5.1\n",
    "\n",
    "The function <font color = 'blue'>const_electric_field</font> returns the potential at location $x$ given by, \n",
    "\\begin{equation}\n",
    "    V \\left( x \\right) = kx,\n",
    "\\end{equation}\n",
    "where $k$ is a constant.\n",
    "\n",
    "The figures following the next cell show the plots for all $k$ such that the product $\\beta k$ equals a value in the array **beta_k** defined in the previous cell."
   ]
  },
  {
   "cell_type": "code",
   "execution_count": null,
   "metadata": {},
   "outputs": [],
   "source": [
    "def const_electric_field(x, k):\n",
    "    return k*x\n",
    "\n",
    "\n",
    "title_5_1 = f\"Particle distribution of {particles} particles after {time_steps} time steps \\nwith potential V(x) = kx.\\n\"\n",
    "\n",
    "plot_distribution(const_electric_field, title_5_1)"
   ]
  },
  {
   "cell_type": "markdown",
   "metadata": {},
   "source": [
    "$\\beta k$ is the ratio between the potential energy and thermal energy. Mathematically, the equation defining $P$ gives that as $\\beta k$ approaches $0$, $P$ approaches $\\frac{1}{2}$. This means there is an equal chance of the particle moving towards the left as towards the right. Hence, it corresponds to the case we had in exercise 3 with constant potential. Therefore, the plot representing $\\beta k=0$ resembles the plot in exercise 3, that looks like a normal distribution with an expectation value equal to 0. Physically, a small $\\beta k$ implies a high ratio of thermal energy compared to the potential energy. Consequently, the particles' motion will be dominated by diffusion instead of the potential. Again, this corresponds with the particles' movement being simulated by random walk and gives a normal distribution. \n",
    "\n",
    "As $\\beta k$ increases, the influence of the potential on the particles and the probability of the particle moving towards the left increases. Aditionally, the particles will be more clustered as they are more likely to move in the same direction (to the left). Hence, the particle distribution narrows and moves further to the left as $\\beta k$ increases, corresponding to a constant drift. The higher the value of $\\beta k$ is, the more distinct this effect becomes as the influence of the potential dominates over the diffusion effect."
   ]
  },
  {
   "cell_type": "markdown",
   "metadata": {},
   "source": [
    "### Excercise 5.2\n",
    "The function <font color = 'blue'>membrane_potential</font> returns the potential \n",
    "\\begin{align}\n",
    "    &V \\left( x \\right) = k, \\,\\,\\, \\text{for} -3h < x < 3h. \\\\\n",
    "    &V \\left( x \\right) = 0  \\quad \\text{otherwise.}\n",
    "\\end{align}\n",
    "at a position $x$ and given a constant. \n",
    "\n",
    "Again, the figures following the next cell show the plots for all $k$ such that the product $\\beta k$ equals a value in the array **beta_k** previously defined."
   ]
  },
  {
   "cell_type": "code",
   "execution_count": null,
   "metadata": {},
   "outputs": [],
   "source": [
    "def membrane_potential(x, k):\n",
    "    pot = np.zeros(len(x))\n",
    "    for i in range(len(x)):\n",
    "        if x[i] > -3*h and x[i] < 3*h:\n",
    "            pot[i] = k\n",
    "    return pot\n",
    "\n",
    "\n",
    "title_5_2 = f\"Particle distribution of {particles} particles after {time_steps} time steps \\nwith membrane potensial.\\n\"\n",
    "\n",
    "plot_distribution(membrane_potential, title_5_2)"
   ]
  },
  {
   "cell_type": "markdown",
   "metadata": {},
   "source": [
    "The arguments used in exercise 5.1 can be applied in this exercie as well. If $\\beta k = 0$, the particles' motion will be dominated by diffusion instead of the potential. Therefore, the first plot resembles the plot in exercise 3. As mentioned in 5.1 there's an equal probability of the particle moving to the right as to the left for $\\beta k = 0$. This corresponds with particles' movement being simulated by random walk and you get a normal particle distribution.\n",
    "\n",
    "As $\\beta k$ increases the particle distribution is more influenced by the potential than diffusion. An increased portion of particles move to the regions with zero potential, and away from the middle with high potential, with the effect being most distinct for the highest values of $\\beta k$. "
   ]
  },
  {
   "cell_type": "markdown",
   "metadata": {},
   "source": [
    "### Excercise 5.3\n",
    "The function <font color = 'blue'>membrane_pot_with_const_elec_res</font> returns the potential at location $x$ given by <br><br>\n",
    "\\begin{align}\n",
    "    &V \\left( x \\right) = -k, \\quad \\text{for } x < -3h \\\\\n",
    "    &V \\left( x \\right) = k \\left( -1 + 2 \\frac{x + 3h}{6h} \\right), \\quad \\text{for } -3h < x < 3h \\\\\n",
    "    &V \\left( x \\right) = k, \\quad\\,\\,\\, \\text{for } x > 3h\n",
    "\\end{align}\n",
    "where $k$ is a constant. \n",
    "\n",
    "As in $5.1$ and $5.2$ the figures following the next cell show the plots for all $k$ such that the product $\\beta k$ equals a value in the array **beta_k**."
   ]
  },
  {
   "cell_type": "code",
   "execution_count": null,
   "metadata": {},
   "outputs": [],
   "source": [
    "def membrane_pot_with_const_elec_res(x, k):\n",
    "    pot = np.ones(len(x))\n",
    "    for i in range(len(x)):\n",
    "        if x[i] < -3*h:\n",
    "            pot[i] *= -k\n",
    "        elif x[i] > 3*h:\n",
    "            pot[i] *= k\n",
    "        else:\n",
    "            pot[i] *= k * (-1 + 2*(x[i] + 3*h) / 6*h)\n",
    "    return pot\n",
    "\n",
    "\n",
    "title_5_3 = f\"Particle distribution of {particles} particles after {time_steps} time steps \\nwith membrane potensial with constant electric resistance\\n\"\n",
    "\n",
    "plot_distribution(membrane_pot_with_const_elec_res, title_5_3)"
   ]
  },
  {
   "cell_type": "markdown",
   "metadata": {},
   "source": [
    "As explained in 5.1 and 5.2, the first plot resembles the plot in exercise 3, because $\\beta k = 0$ and hence the particles' movement can be simulated by random walk. As $\\beta k$ increases the particles movement is less influenced by diffusion and random walk as explained in 5.1 and 5.2. Therefore, a bigger portion of the particles will move towards a lower potential and the particle distribution will move further to the left in the plots as $\\beta k $ increases. For the higest value of $\\beta k$ where the influence of the potential is the largest, almost all particles have moved to the left. In both exercise 5.2 and 5.3, the particle distribution is broader than in exercise 5.1 for high $\\beta k$, because the potential is partially constant which means that it is equally beneficial for the particles to move right and left in the areas with zero potential. "
   ]
  },
  {
   "cell_type": "markdown",
   "metadata": {},
   "source": [
    "## 7  & 8 $\\,\\,$ Interplay between diffusion and voltage $\\,$ & $\\,$ Simulating the action potential"
   ]
  },
  {
   "cell_type": "markdown",
   "metadata": {},
   "source": [
    "In exercise 7 and 8 we will model a simplified action potential cycle using a random walk\n",
    "simulation in a potential depending on the concentration of particles inside and outside the cell membrane. In order to do this, a function to simulate and plot the random walk, as well as several supporting functions, have been defined in the following cells. \n",
    "\n",
    "In the next cell, the initial conditions and constans are defined. "
   ]
  },
  {
   "cell_type": "code",
   "execution_count": null,
   "metadata": {},
   "outputs": [],
   "source": [
    "Na_in_init = 50            #number of Na-ions inside the cell at the beginning. \n",
    "Na_out_init = 1450         #number of Na-ions outside the cell at the beginning\n",
    "K_in_init= 1400            #number of K-ions inside the cell at the beginning\n",
    "K_out_init = 50            #number of K-ions outside the cell at the beginning\n",
    "T0 = 273 + 37              #the temperature of the modeled environnement in Kelvin\n",
    "beta = 1 / (const.k * T0)  #constant beta, where const.k is the Boltzmanns\n",
    "L = 52                     #the length of the interval(the cell membrane will be positioned in the middle)\n",
    "C_c = 0.07 * const.e       #the capacitance of the cell membrane"
   ]
  },
  {
   "cell_type": "markdown",
   "metadata": {},
   "source": [
    "The following three functions are supporting fuctions used in all subtasks.\n",
    "\n",
    "The function <font color=\"blue\"> calculate_normalized_potential </font> takes in a position vector $x$ that is used as a basis for the potential vector, the number of $K^{+}$-ions and $Na^{+}$-ions inside the cell and the membrane potential. It returns a vector holding the values of a normalized potential, that is the potential times $e\\beta$, for all positions in $x$.\n",
    "\n",
    "<font color = \"blue\"> step</font> takes in two potentials respectively to the left and right of a particle and returns $-1$ or $1$ depending on whether the particle move left or right. \n",
    "\n",
    "<font color = \"blue\"> plot_potential </font> takes in a vector with voltage values. It returns nothing, but makes a plot of the voltage as a function of time."
   ]
  },
  {
   "cell_type": "code",
   "execution_count": null,
   "metadata": {},
   "outputs": [],
   "source": [
    "def calculate_normalized_potential(x, K_in, Na_in, membrane_pot):\n",
    "    pot = np.zeros(len(x))\n",
    "    for i in range(len(x)//2):                                                                     #potential inside the cell given by difference between the concentration\n",
    "        pot[i] = (Na_in + K_in - Na_out_init - K_out_init) * 0.1e-3 * const.e**2*beta / C_c        #inside and a constant concentration outside the cell\n",
    "    pot[L//2] = (Na_in + K_in - Na_out_init - K_out_init) * 0.1e-3 *const.e**2 * beta / (C_c * 2)\n",
    "    for i in range(L//2-1, L//2+2):\n",
    "        pot[i] += membrane_pot                                                                     #membrane potential\n",
    "    return pot\n",
    "\n",
    "\n",
    "def step(V_minus, V_plus):\n",
    "    r = randint(0, 101) / 100                  #generates a random number between 0 and 1\n",
    "    p = 1 / (1 + np.exp(-(V_minus - V_plus)))  #calculates the probability of moving right\n",
    "    if r <= p:                                 #right step\n",
    "        return 1\n",
    "    else:                                      #left step\n",
    "        return -1\n",
    "\n",
    "    \n",
    "def plot_potential(pot_vec, task8):\n",
    "    #plots the voltage as points\n",
    "    plt.plot([n for n in range(len(pot_vec))], pot_vec, '.', label=\"Voltage\")\n",
    "    \n",
    "    #plots a line calculated by the average voltage over multiple time steps\n",
    "    intervals = len(pot_vec) // 25\n",
    "    if task8:\n",
    "        intervals = len(pot_vec) // 10\n",
    "    av_pot = np.average(np.resize(pot_vec, (intervals, len(pot_vec)//intervals)), axis=1)\n",
    "    plt.plot([n for n in range(0, len(pot_vec), len(pot_vec)//intervals)], av_pot, 'r', label=\"Average voltage\")\n",
    "    plt.legend()"
   ]
  },
  {
   "cell_type": "markdown",
   "metadata": {},
   "source": [
    "The function <font color = \"blue\"> sodium_potassium_pump </font> simulates the sodium-potassium pump in task 8.2 and is only used when a boolean input variable signifying task 8.2 in the main function is set to true. The input variables in <font color = \"blue\"> sodium_potassium_pump </font> are the distribution of $Na^{+}$- and $K^{+}$-ions and the number of $Na^{+}$-ions inside the cell. It returns nothing but checks whether there are enough of the relevant ions on each side of the cell membrane. If there is, the functions changes the distribution vectors by moving $3 Na^{+}$-ions from the inside and out and $2 K^{+}$-ions from the outside and in. "
   ]
  },
  {
   "cell_type": "code",
   "execution_count": null,
   "metadata": {},
   "outputs": [],
   "source": [
    "def sodium_potassium_pump(dist_Na, dist_K, Na_in):\n",
    "    K_out = np.count_nonzero(dist_K>1)\n",
    "    if (Na_in>=3 and K_out>=2):    #Checks if there are enough particles\n",
    "        dist_Na.sort()\n",
    "        dist_K.sort()\n",
    "        i = np.argmax(dist_Na > -2)\n",
    "        #moves Na from the inside out\n",
    "        for n in range(1,4):\n",
    "            dist_Na[i-n]=2\n",
    "        i = np.argmax(dist_K > 1)\n",
    "        #moves K from the outside in\n",
    "        for n in range(2):\n",
    "            dist_K[i+n]=-2"
   ]
  },
  {
   "cell_type": "markdown",
   "metadata": {},
   "source": [
    "The function <font color = \"blue\"> simulation_and_plot </font> takes in the membrane potential for respectively potassium and sodium, a string representing the title of the plot, the potential representing an open potential gate (with default value $0$) and two boolean values with default values **<font color=\"green\"> False</font>** indicating whether or not the situation in task 8.1 or 8.2 is being modeled. It calculates the distribution after **time_steps** iterations, recalculating the potential after all particles have moved one step. The final distribution is plotted as well as the evolution of the voltage over the membrane as a function of time. The red line in the plot is the weighted average along the x-axis and makes it easier to interpret the results.  "
   ]
  },
  {
   "cell_type": "code",
   "execution_count": null,
   "metadata": {},
   "outputs": [],
   "source": [
    "def simulation_and_plot(V0K, V0Na, title, V0_op = 0, task8 = False, spp = False):\n",
    "    x = np.linspace(-L/2, L/2, L+1)   # x-values that is used as a basis for the potential vector\n",
    "    \n",
    "    dist_K = np.append(np.ones(K_out_init)*L//4, np.ones(K_in_init)*-L//4)    #array representing distribution of potassium\n",
    "    dist_Na = np.append(np.ones(Na_out_init)*L//4, np.ones(Na_in_init)*-L//4) #array representing distribution of sodium\n",
    "    \n",
    "    Na_in = Na_in_init\n",
    "    K_in = K_in_init\n",
    "    \n",
    "    if task8:                   #only relevant for task 8.1 and 8.2\n",
    "            V0K_cl = V0K\n",
    "            V0Na_cl = V0Na\n",
    "\n",
    "    print(\"Process...\", end=\" \")\n",
    "    \n",
    "    for t in range(time_steps):\n",
    "        #simulates the opening and closing of the potassium/sodium gates at certain potentials in task 8\n",
    "        if task8:               \n",
    "            pot = (Na_in + K_in - Na_out_init - K_out_init)*0.1*const.e/C_c\n",
    "            if (pot <= -70):\n",
    "                V0Na = V0_op\n",
    "                V0K = V0K_cl\n",
    "            if (pot >= 30):\n",
    "                V0Na = V0Na_cl\n",
    "                V0K = V0_op\n",
    "        \n",
    "        #starts the potassium pump every tenth time step. \n",
    "        if (spp and t%10 == 0): \n",
    "            sodium_potassium_pump(dist_Na, dist_K, Na_in)\n",
    "        \n",
    "        #calculates the potentialarray for sodium/potassium based on the current ditrubution\n",
    "        potK = calculate_normalized_potential(x, K_in, Na_in, V0K)\n",
    "        potNa = calculate_normalized_potential(x, K_in, Na_in, V0Na)\n",
    "        \n",
    "        #appends the concentrationdifferens to an array for later use\n",
    "        if t==0:\n",
    "            pot_vec = np.array([potK[2]])\n",
    "        else:\n",
    "            pot_vec = np.append(pot_vec, [potK[2]])\n",
    "        \n",
    "        #iterates over all particles and moving them one step\n",
    "        for i in range(len(dist_K)):\n",
    "            if dist_K[i]>=L/2:\n",
    "                dist_K[i]-=1\n",
    "            elif dist_K[i]<=-L/2:\n",
    "                dist_K[i]+=1\n",
    "            else:\n",
    "                dist_K[i]+=step(potK[int(L//2+dist_K[i])-1], potK[int(L//2+dist_K[i])+1])\n",
    "        for j in range(len(dist_Na)):\n",
    "            if dist_Na[j]>=L/2:\n",
    "                dist_Na[j]-=1\n",
    "            elif dist_Na[j]<=-L/2:\n",
    "                dist_Na[j]+=1\n",
    "            else:\n",
    "                dist_Na[j]+=step(potNa[int(L//2+dist_Na[j])-1], potNa[int(L//2+dist_Na[j])+1])\n",
    "        \n",
    "        #recalculating the concentration inside the cell\n",
    "        K_in = np.count_nonzero(dist_K < -1)\n",
    "        Na_in = np.count_nonzero(dist_Na < -1)\n",
    "        if t%100 == 0:\n",
    "            print(t, end=' ')\n",
    "        \n",
    "    #Plotting how the potenatialdifference changes with time    \n",
    "    plt.figure(title) \n",
    "    plt.title(title)\n",
    "    plt.xlabel(\"t\")\n",
    "    plot_potential(pot_vec, spp)\n",
    "    \n",
    "    plt.show()"
   ]
  },
  {
   "cell_type": "markdown",
   "metadata": {},
   "source": [
    "### Exercise 7.1"
   ]
  },
  {
   "cell_type": "code",
   "execution_count": null,
   "metadata": {},
   "outputs": [],
   "source": [
    "time_steps = 700\n",
    "beta_V0 = [0,1,3]          #a list of values for beta*V0 representing normalized membrane potentials\n",
    "\n",
    "for n in beta_V0:\n",
    "    title = \"Voltage as function of time with \" + r\"$\\beta V_0$\" + f\" = {n}\"\n",
    "    simulation_and_plot(n, n, title)"
   ]
  },
  {
   "cell_type": "markdown",
   "metadata": {},
   "source": [
    "Initially, there are more positively charged particles on the outside of the membrane, making the potential higher there. The particles' movement is mostly determined by diffusion and the electric force due to the voltage over the membrane, but sometimes the membrane potential refrain the particles from moving to the other side of the membrane. Since the membran potential does not stop all the particles from moving through the membrane and the particles all have the same electric charge, the number of particles at each side of the membrane will even out until the electric force and diffusion gradient both equal zero. Hence, the voltage will settle at zero over time. \n",
    "\n",
    "As the membrane potential increases, the probability of particles moving through the membrane decreases. Therefore, it takes a longer time before the voltage settles as $\\beta V^{0}$. This corresponds well with the plots of the voltage as a function of time.  "
   ]
  },
  {
   "cell_type": "markdown",
   "metadata": {},
   "source": [
    "### Exercise 7.2"
   ]
  },
  {
   "cell_type": "code",
   "execution_count": null,
   "metadata": {},
   "outputs": [],
   "source": [
    "time_steps = 1000\n",
    "beta_V0 = [(10,1),(1,10)]\n",
    "\n",
    "for n,m in beta_V0:\n",
    "    title = \"Voltage as function of time with \" + r\"$\\beta V^0_{Na}$\" + f\" = {m} and \" + r\"$\\beta V^0_{K}$\" + f\" = {n}\"\n",
    "    simulation_and_plot(n, m, title)"
   ]
  },
  {
   "cell_type": "markdown",
   "metadata": {},
   "source": [
    "Initially, there are 50 more particles outside of the membrane than inside and consequently the potential is initially higher here than inside the cell.\n",
    "\n",
    "The first plot shows the voltage as a function of time with $\\beta V_{Na}^{0} = 1$ and $\\beta V_{K}^{0} = 10$. It can be observed that the normalized voltage settles around 1.\n",
    "\n",
    "There is 29 times more sodium particles and 28 times less potassium particles outside than inside the cell membrane. Very few of the potassium particles will move through the membrane because the membrane potential for potassium is so high that it acts as barrier counteracting both the diffusion gradient and electrical force (in the beginning these are opposite for potassium). Sodium particles will move through the membrane and into the cell due to diffusion and the electric force generated by the voltage over the cell membrane. \n",
    "\n",
    "After 50 sodium particles have crossed the membrane, there is an equal amount of charge inside and outside of the membrane and the voltage is 0. However, there are still more sodium particles outside than inside and they will continue to move through the membrane because of the diffusion gradient. As the potassium ions are essentially trapped, diffusion of sodium from the outside in is the only diffusion that takes place. That is why the voltage does not settle at 0 as it did in exercise 7.1. As more sodium particles cross the membrane, the voltage increases and generates an electric force that points in the opposite direction of the diffusion gradient. To begin with, the force due to the voltage is not strong enough to cancel out the diffusion force on the sodium particle. Therefore, the voltage increases and it settles when the diffusion force and electric force are equally strong. According to the plot, the forces are equally strong when the normalized voltage reaches 1. \n",
    "\n",
    "The last plot shows how the voltage changes as a function of time when $\\beta V_{Na}^{0} = 10$ and $\\beta V_{K}^{0} = 1$. This situation is qualitatively different. This time, the membrane potential is very high for the sodium particles, effectively trapping the sodium particles outside the cell in the same way the potassium particles were trapped inside in the first case. The potassium particles, however, can now easily cross the barrier to the outside of the cell. In the first situation, both the diffusion gradient and the electric force are in favour of the sodium particles crossing the barrier. However, in this situation the diffusion gradient and the electric force have opposite effects on the potassium, respectively pushing it out of the cell because the concentration of potassium is much lower there and pushing it from the outside and in as the potential is lower there. In the beginning, the effect of the electric force is largest so that some particles will cross the membrane from the outside and in until the diffusion gradient and the electric force balances each other at a normalized voltage equaling about -1.9. However, the total forces are smaller, making the process slower and more subject to the effects of random walk than in the first situation. This is reflected in the plot, where the variation of the voltage is greater and the voltage stabilises slower than in the plot depicting the first situation. "
   ]
  },
  {
   "cell_type": "markdown",
   "metadata": {},
   "source": [
    "### Exercise 8.1"
   ]
  },
  {
   "cell_type": "code",
   "execution_count": null,
   "metadata": {},
   "outputs": [],
   "source": [
    "#Sets the values for the membrane potentials representing closed and open gates. \n",
    "V0K_closed = 50\n",
    "V0Na_closed = 50\n",
    "V0_open = 1\n",
    "time_steps = 1000\n",
    "\n",
    "title\n",
    "\n",
    "simulation_and_plot(V0K_closed, V0Na_closed, \"Voltage as function of time with voltage-controlled membrane potentials\", V0_open, True)"
   ]
  },
  {
   "cell_type": "markdown",
   "metadata": {},
   "source": [
    "In this excercise, we have implemented the sodium and potassium gates, allowing the particles to cross given the conditions specified in the assignment.\n",
    "\n",
    "Initially, there is 50 sodium ions and 1400 potassium ions inside (in total 1450 particles). The outside of the membrane will constantly have a concentration corresponding to 1500 particles in the simulation, 1450 sodium and 50 potassium. In other words there is an abundance of sodium particles on the outside and potassium particles on the inside. When the gates are closed, represented by setting $V_{Na}(x) = V_{K}(x) = 50$ in the membrane, the membrane is practically impenetrable.\n",
    "\n",
    "Because of the initial difference of concentration of positively charged ions, $V(t) \\leq -70$ mV so that the sodium is opened (by setting $V_{na} = 1$). Thus, the sodium ions will rush in due to the gradient of charge and concentration, until $V(t) \\geq 30$ mV. Note that the dimensionless equivalent to $V(t) = -70$ mV in our plot is the value -2.6, and $V(t) = 30$ mV equals 1.12. Typically, around 60 or 70 sodium ions will pass the membrane at this stage, so that the total of ions inside increases. \n",
    "\n",
    "Next, the sodium gate closes (by setting $V_{na} = 50$) and the potassium gate opens ($V_{K} = 1$). Now, due to the difference in consentration and total charge, the potassium ions wil rush in until $V(t) \\leq -70$ mV. As one can see from the plot, the plot will try to stabilize between -1.0 (26.8 mV) and -1.5 (-40.1 mV) at this point due to the same reasons the potassium plot in 7.2 equalized around -1.9. Here, however, the value is higher because there is a higher concentration of sodium ions inside of the membrane than in 7.2. Due to the potassium gate still being open at this point, the only way for the cycle to repeat is for the random walk of sodium ions to cause a voltage difference larger than -70 mV. The more sodium ions there is on the inside, the less chance there is of enough potassium ions wandering across the membrane. \n",
    "\n",
    "Usually, the cycle will repeat 1 or 2 times before stopping completely, in rare cases 3. The potential difference will stabilize on higher and higher values after each cycle, making it less likely for enough potassium ions to cross the membrane such that the cycle may repeat. The reason why the number varies is due to the randomness of the diffusion, as the number of sodium and potassium particles that cross the membrane during the cycle varies from time to time."
   ]
  },
  {
   "cell_type": "markdown",
   "metadata": {},
   "source": [
    "### Exercise 8.2"
   ]
  },
  {
   "cell_type": "code",
   "execution_count": null,
   "metadata": {},
   "outputs": [],
   "source": [
    "time_steps = 3000\n",
    "\n",
    "simulation_and_plot(V0K_closed, V0Na_closed, \"Voltage as function of time with SPP\", V0_open, True, True)"
   ]
  },
  {
   "cell_type": "markdown",
   "metadata": {},
   "source": [
    "In this exercise, we have implemented the SPP (sodium potassium pump). \n",
    "\n",
    "Here, the cycle repeats without stopping. The reason for this is the SPP, which makes sure there is sufficiently few sodium ions and sufficiently many potassium ions on the inside of the membrane. This enables the potential to reach -70 mV, thus opening the sodium gate and closing the potassium gate. Hence, the cycle starts over. "
   ]
  },
  {
   "cell_type": "code",
   "execution_count": null,
   "metadata": {},
   "outputs": [],
   "source": []
  }
 ],
 "metadata": {
  "kernelspec": {
   "display_name": "Python 3",
   "language": "python",
   "name": "python3"
  },
  "language_info": {
   "codemirror_mode": {
    "name": "ipython",
    "version": 3
   },
   "file_extension": ".py",
   "mimetype": "text/x-python",
   "name": "python",
   "nbconvert_exporter": "python",
   "pygments_lexer": "ipython3",
   "version": "3.7.1"
  }
 },
 "nbformat": 4,
 "nbformat_minor": 2
}
