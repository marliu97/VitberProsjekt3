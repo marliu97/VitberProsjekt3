{
 "cells": [
  {
   "cell_type": "markdown",
   "metadata": {},
   "source": [
    "# TMA4320 - Project 3: <br> Simulating the action potential with random walk of ions\n",
    "**Group number:** 27 <br>\n",
    "**Group members:** Marte K. Høiskar, Maren Lium and Johanna U. Marstrander"
   ]
  },
  {
   "cell_type": "markdown",
   "metadata": {},
   "source": [
    "## 1 $\\,$ Theory\n",
    "Skal vi skrive noe her?\n",
    "\n",
    "In one dimention the diffusion equation takes the form \n",
    "\n",
    "\\begin{equation}\n",
    "    \\frac{\\partial \\phi \\left( x, t \\right)}{\\partial x} = \\frac{\\partial}{\\partial x} \\left( D \\left( x \\right) \\frac{\\partial \\phi (x, t)}{\\partial x} \\right),\n",
    "    \\label{Diffusion equation}\n",
    "\\end{equation}\n",
    "\n",
    "where $\\phi(x,t)$ is the distribution of a substance and $D(x)$ is the (position dependent) diffusion coefficient.\n",
    "\n",
    "## 2 $\\,$ Excercises\n",
    "\n",
    "### Excercise 2.1\n",
    "*Task:* <br>\n",
    "Show that the function\n",
    "\n",
    "\\begin{equation}\n",
    "    \\tilde{\\phi} \\left( x, t \\right) = \\frac{1}{\\sqrt{4 \\pi D t}} e^{ - \\frac{\\left( x - \\mu \\right)^2}{4Dt} },\n",
    "\\end{equation}\n",
    "\n",
    "where D is a constant, is a solution of the diffusion equation.\n",
    "\n",
    "*Answer:*<br>\n",
    "\n",
    "### Excercise 2.2\n",
    "#### 2.2.1\n",
    "*Task:*<br>\n",
    "(Initial value problem.) Given the particle distribution\n",
    "\n",
    "\\begin{equation}\n",
    "    \\phi \\left( x, 0 \\right)\n",
    "    =\n",
    "    \\delta \\left( x - x_0 \\right),\n",
    "\\end{equation}\n",
    "\n",
    "where $\\delta(x)$ is the dirac delta function, find the particle distribution a time $t$.\n",
    "\n",
    "*Answer:*<br>\n",
    "\n",
    "#### 2.2.2\n",
    "*Task:*<br>\n",
    "Use the results of Exercise 2.2.1 to give a physical interpretation of the diffusion coefficient D.\n",
    "\n",
    "*Answer:*<br>\n",
    "\n",
    "#### 2.2.3\n",
    "*Task:*<br>\n",
    "Use the results from Exercise 2.2.1 to find the time evolution $\\phi(x, t)$ given another initial condition $\\phi(x, 0) = g(x)$, where $g(x)$ is an arbitrary function.\n",
    "\n",
    "*Answer:*<br>"
   ]
  },
  {
   "cell_type": "markdown",
   "metadata": {},
   "source": [
    "## 3 $\\,$ Programming  \n",
    "*Random walk in 1D*"
   ]
  },
  {
   "cell_type": "code",
   "execution_count": null,
   "metadata": {},
   "outputs": [],
   "source": [
    "from random import randint\n",
    "import numpy as np\n",
    "from matplotlib import pyplot as plt\n",
    "from scipy.stats import norm\n",
    "from scipy import constants as const"
   ]
  },
  {
   "cell_type": "code",
   "execution_count": null,
   "metadata": {},
   "outputs": [],
   "source": [
    "particles = 1000             # number of particles at x = 0\n",
    "time_steps = 100             # number of time steps \n",
    "d = 1                        # probability of a particle moving (in an arbitrary direction)\n",
    "\n",
    "\n",
    "def random_walk(p_left, pos, relative_prob = 1, h = 1):\n",
    "    '''Input: probability d, steplength h, and a temporary position vector pos_vec\n",
    "    (temporary meaning that the last element is at time t so that the return value is the position at time t + dt)\n",
    "    Output: the next location of the particle'''\n",
    "    \n",
    "    r = random.randint(0, 101) / 100    # Generates a random number between 0.01 and 1\n",
    "    if r < p_left:                      # Left step\n",
    "        return pos - h\n",
    "    else:                               # Right step\n",
    "        return pos + h\n",
    "\n",
    "    \n",
    "def random_walk_in_1D():\n",
    "    '''Answer to part 3'''\n",
    "    p_left = d/2                        # Probability of moving left\n",
    "    \n",
    "    dist = np.zeros(201)                # Distribution array\n",
    "    \n",
    "    for p in range(particles):          # Loops through every paricle\n",
    "        i = 0\n",
    "        for s in range(time_steps):     # Loops through time_steps per particle\n",
    "            i = random_walk(p_left, i)\n",
    "        dist[i + 100] += 1              # Places the particle nr p in dist\n",
    "    \n",
    "    return dist\n",
    "\n",
    "\n",
    "dist_1D = random_walk_in_1D()\n",
    "\n",
    "def task_3_plot():\n",
    "    \n",
    "    #Plotting our data\n",
    "    x_axis = np.linspace(-100, 100, 201)\n",
    "   \n",
    "    title = f\"Particle distribution of {particles} particles after {time_steps} time steps.\"\n",
    "\n",
    "    fig, ax1 = plt.subplots()\n",
    "    plt.title(title)\n",
    "    ax1.plot(x_axis, dist_1D, label=\"Particle distribution\")\n",
    "    ax1.set_xlabel(\"x\")\n",
    "    ax1.set_ylabel(\"Number of particles\")\n",
    "\n",
    "    #Plotting a fitted normal distribution\n",
    "    muf, stdf = norm.fit(dist_1D)                            # the (ish) expected value and standard deviation of our particle  \n",
    "    norm_dist = norm.pdf(x_axis, loc = muf, scale = stdf)    # the fitted normal distribution\n",
    "    \n",
    "    ax2 = ax1.twinx()\n",
    "    ax2.set_ylabel(\"Probability\")\n",
    "    ax2.plot(x_axis, norm_dist, \"r-\" ,label=\"Fitted normal distr.\")\n",
    "    #ax2.plot(x_axis, norm.pdf(x_axis, loc = 0, scale = np.sqrt(2*100)), \"b-\" ,label=\"Theory says\")\n",
    "\n",
    "    plt.legend()    \n",
    "    \n",
    "    print(f\"Theory says:\\tMu = {0}\\t\\tStd = {np.sqrt(2*100):.6}\")\n",
    "    print(f\"Men vi faar:\\tMu = {muf:.6}\\tStd = {stdf:.6}\")\n",
    "    \n",
    "    \n",
    "task_3_plot()"
   ]
  },
  {
   "cell_type": "markdown",
   "metadata": {},
   "source": [
    "*Explanation of the results based on the theory from section 1 and 2*:\n"
   ]
  },
  {
   "cell_type": "markdown",
   "metadata": {},
   "source": [
    "## 4 $\\,$ Theory\n",
    "Skal vi skrive noe som helst her? "
   ]
  },
  {
   "cell_type": "markdown",
   "metadata": {},
   "source": [
    "## 5 $\\,$ Programming \n",
    "*Random walk in a potential*"
   ]
  },
  {
   "cell_type": "code",
   "execution_count": null,
   "metadata": {},
   "outputs": [],
   "source": [
    "temperature = 298.15\n",
    "k = 1\n",
    "beta = 1 / (const.k * temperature)   # Where k is the Boltzmann constant and 298.15 is the temperature in kelvin\n",
    "\n",
    "def relative_prob(V, x, beta, h = 1):\n",
    "    return np.exp(-beta( V(x-h) - V(x-h) ))"
   ]
  },
  {
   "cell_type": "markdown",
   "metadata": {},
   "source": [
    "### Excercise 5.1\n",
    "\n",
    "\\begin{equation}\n",
    "    V \\left( x \\right) = kx.\n",
    "\\end{equation}"
   ]
  },
  {
   "cell_type": "code",
   "execution_count": null,
   "metadata": {},
   "outputs": [],
   "source": [
    "def V1(x):     #please kom på bedre navn, jeg orker ikke\n",
    "    return k*x\n",
    "\n",
    "\n",
    "print(\"Git er gøy :)\")\n",
    "print(\"(innimellom heH)\")"
   ]
  },
  {
   "cell_type": "code",
   "execution_count": null,
   "metadata": {},
   "outputs": [],
   "source": []
  }
 ],
 "metadata": {
  "kernelspec": {
   "display_name": "Python 3",
   "language": "python",
   "name": "python3"
  },
  "language_info": {
   "codemirror_mode": {
    "name": "ipython",
    "version": 3
   },
   "file_extension": ".py",
   "mimetype": "text/x-python",
   "name": "python",
   "nbconvert_exporter": "python",
   "pygments_lexer": "ipython3",
   "version": "3.7.1"
  }
 },
 "nbformat": 4,
 "nbformat_minor": 2
}
